{
  "cells": [
    {
      "cell_type": "markdown",
      "metadata": {
        "id": "view-in-github",
        "colab_type": "text"
      },
      "source": [
        "<a href=\"https://colab.research.google.com/github/moo-337/differential-machine-learning/blob/Auto-Call/DifferentialMLTF2_AutoCall.ipynb\" target=\"_parent\"><img src=\"https://colab.research.google.com/assets/colab-badge.svg\" alt=\"Open In Colab\"/></a>"
      ]
    },
    {
      "cell_type": "markdown",
      "metadata": {
        "id": "gH28r65zmri7"
      },
      "source": [
        "<a href=\"https://colab.research.google.com/github/differential-machine-learning/notebooks/blob/master/DifferentialMLTF2.ipynb\" target=\"_parent\"><img src=\"https://colab.research.google.com/assets/colab-badge.svg\" alt=\"Open In Colab\"/></a>"
      ]
    },
    {
      "cell_type": "markdown",
      "metadata": {
        "id": "icd9ZKB6mrjB"
      },
      "source": [
        "Working paper: https://arxiv.org/abs/2005.02347 \n",
        "GitHub: https://github.com/differential-machine-learning"
      ]
    },
    {
      "cell_type": "markdown",
      "metadata": {
        "id": "mL7p_WcDmrjC"
      },
      "source": [
        "# Differential Deep Learning\n",
        "\n",
        "---\n",
        "Updated for TensorFlow 2\n",
        "---\n",
        "\n",
        "---\n",
        "Antoine Savine, January 2021\n",
        "---\n",
        "\n",
        "This notebook implements the novel ideas of *twin networks* and *differential training* from the working paper [Differential Machine Learning](https://arxiv.org/abs/2005.02347) by Brian Huge and [Antoine Savine](https://antoinesavine.com) (2020), and applies them in a few simple contexts, including the reproduction of some results from the paper. In the article, we presented the ideas and discussed the algorithms, but skipped important implementation details best covered in a notebook with code. Those details are dicussed here.    \n",
        "\n",
        "Although this is a *demonstration* notebook, the algorithms are implemented in self contained, modular and extensible blocks of code. They may be easily extracted, extended and integrated into production systems. Some advanced extensions particularly important in a production context are discussed in the [appendices](https://github.com/differential-machine-learning/appendices/).\n",
        "\n",
        "The code is based on TensorFlow 1.x. You may run the notebook in a local TensorFlow 1.x enviroment *with GPU support*, also with common libraries like numpy and matplotlib. On Google Colab, the correct version of TensorFlow is automatically selected, and all the necessary libraries are preinstalled. All you need is *enable GPU support*: menu runtime/change runtime type and select hardware accelerator GPU.\n",
        "\n",
        "We do not further discuss the algorithms covered in the article or fundamentals of TensorFlow (see classic resources like [Geron's textbook](https://www.amazon.com/Hands-Machine-Learning-Scikit-Learn-TensorFlow/dp/1491962291), first edition for TensorFlow 1.x). For modern deep learning and best practices, we refer e.g. to [Goodfellow and al's Deep Learning Book](https://www.deeplearningbook.org/) or [Andrew Ng's deep learning lectures](https://www.coursera.org/specializations/deep-learning). \n",
        "\n",
        "This notebook was ported on TensorFlow 2 in January 2021. The original TensorFlow 1 notebook will no longer be updated. For now, the notebook runs TensorFlow 1 code in a TensorFlow 2 environment. An upgrade to idiomatic TensorFlow 2 code will be available shortly."
      ]
    },
    {
      "cell_type": "markdown",
      "metadata": {
        "id": "aQWN6m4tmrjD"
      },
      "source": [
        "# Imports"
      ]
    },
    {
      "cell_type": "code",
      "execution_count": 1,
      "metadata": {
        "id": "9RvNyZtcmrjE",
        "outputId": "6e153e64-8376-4163-f6db-2f36092e395d",
        "colab": {
          "base_uri": "https://localhost:8080/"
        }
      },
      "outputs": [
        {
          "output_type": "stream",
          "name": "stdout",
          "text": [
            "TF version = 2.8.2\n",
            "GPU support =  False\n"
          ]
        }
      ],
      "source": [
        "try:\n",
        "    %matplotlib notebook\n",
        "except Exception:\n",
        "    pass\n",
        "\n",
        "# import and test\n",
        "import tensorflow as tf2\n",
        "print(\"TF version =\", tf2.__version__)\n",
        "\n",
        "# we want TF 2.x\n",
        "assert tf2.__version__ >= \"2.0\"\n",
        "\n",
        "# disable eager execution etc\n",
        "tf = tf2.compat.v1\n",
        "tf.disable_eager_execution()\n",
        "\n",
        "# disable annoying warnings\n",
        "tf.logging.set_verbosity(tf.logging.ERROR)\n",
        "import warnings\n",
        "warnings.filterwarnings('ignore')\n",
        "\n",
        "# make sure we have GPU support\n",
        "print(\"GPU support = \", tf.test.is_gpu_available())\n",
        "\n",
        "# import other useful libs\n",
        "import numpy as np\n",
        "from scipy.stats import norm\n",
        "import matplotlib.pyplot as plt\n",
        "import time\n",
        "from tqdm import tqdm_notebook\n",
        "import copy\n",
        "\n",
        "# representation of real numbers in TF, change here for 32/64 bits\n",
        "real_type = tf.float32\n",
        "# real_type = tf.float64"
      ]
    },
    {
      "cell_type": "markdown",
      "metadata": {
        "id": "s_kG4MMCmrjH"
      },
      "source": [
        "# Part I : Core Functions"
      ]
    },
    {
      "cell_type": "markdown",
      "metadata": {
        "id": "tsSye-jvmrjI"
      },
      "source": [
        "## Feedforward neural network in TensorFlow"
      ]
    },
    {
      "cell_type": "markdown",
      "metadata": {
        "id": "1wHb07vTmrjI"
      },
      "source": [
        "This function builds a classic feedforward neural network in TensorFlow, implementing the set of equations $(3)$ from the article. This is classic deep learning code and a direct translation of equations $(3)$ in Python. We tried to keep notations consistent with the paper.\n",
        "\n",
        "The weights are initialized with TensorFlow's  [variance_scaling_initializer](https://www.tensorflow.org/versions/r1.15/api_docs/python/tf/initializers/variance_scaling), implementing the particularly effective [Xavier/Glorot](https://www.deeplearning.ai/ai-notes/initialization/)  initialization strategy, a best practice in modern deep learning. A correct initialization is a key ingredient in an effective practical implementation of deep learning. \n",
        "\n",
        "Since the network is initialized randomly, we also implement seed in the interest of reproducibility."
      ]
    },
    {
      "cell_type": "code",
      "execution_count": 2,
      "metadata": {
        "id": "HBxxCK23mrjJ"
      },
      "outputs": [],
      "source": [
        "def vanilla_net(\n",
        "    input_dim,      # dimension of inputs, e.g. 10\n",
        "    hidden_units,   # units in hidden layers, assumed constant, e.g. 20\n",
        "    hidden_layers,  # number of hidden layers, e.g. 4\n",
        "    seed):          # seed for initialization or None for random\n",
        "    \n",
        "    # set seed\n",
        "    tf.set_random_seed(seed)\n",
        "    \n",
        "    # input layer\n",
        "    xs = tf.placeholder(shape=[None, input_dim], dtype=real_type)\n",
        "    \n",
        "    # connection weights and biases of hidden layers\n",
        "    ws = [None]\n",
        "    bs = [None]\n",
        "    # layer 0 (input) has no parameters\n",
        "    \n",
        "    # layer 0 = input layer\n",
        "    zs = [xs] # eq.3, l=0\n",
        "    \n",
        "    # first hidden layer (index 1)\n",
        "    # weight matrix\n",
        "    ws.append(tf.get_variable(\"w1\", [input_dim, hidden_units], \\\n",
        "        initializer = tf.variance_scaling_initializer(), dtype=real_type))\n",
        "    # bias vector\n",
        "    bs.append(tf.get_variable(\"b1\", [hidden_units], \\\n",
        "        initializer = tf.zeros_initializer(), dtype=real_type))\n",
        "    # graph\n",
        "    zs.append(zs[0] @ ws[1] + bs[1]) # eq. 3, l=1\n",
        "    \n",
        "    # second hidden layer (index 2) to last (index hidden_layers)\n",
        "    for l in range(1, hidden_layers): \n",
        "        ws.append(tf.get_variable(\"w%d\"%(l+1), [hidden_units, hidden_units], \\\n",
        "            initializer = tf.variance_scaling_initializer(), dtype=real_type))\n",
        "        bs.append(tf.get_variable(\"b%d\"%(l+1), [hidden_units], \\\n",
        "            initializer = tf.zeros_initializer(), dtype=real_type))\n",
        "        zs.append(tf.nn.softplus(zs[l]) @ ws[l+1] + bs[l+1]) # eq. 3, l=2..L-1\n",
        "\n",
        "    # output layer (index hidden_layers+1)\n",
        "    ws.append(tf.get_variable(\"w\"+str(hidden_layers+1), [hidden_units, 1], \\\n",
        "            initializer = tf.variance_scaling_initializer(), dtype=real_type))\n",
        "    bs.append(tf.get_variable(\"b\"+str(hidden_layers+1), [1], \\\n",
        "        initializer = tf.zeros_initializer(), dtype=real_type))\n",
        "    # eq. 3, l=L\n",
        "    zs.append(tf.nn.softplus(zs[hidden_layers]) @ ws[hidden_layers+1] + bs[hidden_layers+1]) \n",
        "    \n",
        "    # result = output layer\n",
        "    ys = zs[hidden_layers+1]\n",
        "    \n",
        "    # return input layer, (parameters = weight matrices and bias vectors), \n",
        "    # [all layers] and output layer\n",
        "    return xs, (ws, bs), zs, ys"
      ]
    },
    {
      "cell_type": "markdown",
      "metadata": {
        "id": "WmyLZWn2mrjK"
      },
      "source": [
        "## Explicit backpropagation and twin network"
      ]
    },
    {
      "cell_type": "markdown",
      "metadata": {
        "id": "N8JUvb-6mrjK"
      },
      "source": [
        "These functions construct the twin network by explicit backpropagation (eq. $(4)$ in the article). The twin network simultaneously and efficiently predicts values and their differentials to inputs, allowing to train on datasets augmented with differential labels (i.e. gradients of labels to inputs, as explained in the working paper). "
      ]
    },
    {
      "cell_type": "code",
      "execution_count": 3,
      "metadata": {
        "id": "GkL1n1gxmrjL"
      },
      "outputs": [],
      "source": [
        "# compute d_output/d_inputs by (explicit) backprop in vanilla net\n",
        "def backprop(\n",
        "    weights_and_biases, # 2nd output from vanilla_net() \n",
        "    zs):                # 3rd output from vanilla_net()\n",
        "    \n",
        "    ws, bs = weights_and_biases\n",
        "    L = len(zs) - 1\n",
        "    \n",
        "    # backpropagation, eq. 4, l=L..1\n",
        "    zbar = tf.ones_like(zs[L]) # zbar_L = 1\n",
        "    for l in range(L-1, 0, -1):\n",
        "        zbar = (zbar @ tf.transpose(ws[l+1])) * tf.nn.sigmoid(zs[l]) # eq. 4\n",
        "    # for l=0\n",
        "    zbar = zbar @ tf.transpose(ws[1]) # eq. 4\n",
        "    \n",
        "    xbar = zbar # xbar = zbar_0\n",
        "    \n",
        "    # dz[L] / dx\n",
        "    return xbar    \n",
        "\n",
        "# combined graph for valuation and differentiation\n",
        "def twin_net(input_dim, hidden_units, hidden_layers, seed):\n",
        "    \n",
        "    # first, build the feedforward net\n",
        "    xs, (ws, bs), zs, ys = vanilla_net(input_dim, hidden_units, hidden_layers, seed)\n",
        "    \n",
        "    # then, build its differentiation by backprop\n",
        "    xbar = backprop((ws, bs), zs)\n",
        "    \n",
        "    # return input x, output y and differentials d_y/d_z\n",
        "    return xs, ys, xbar"
      ]
    },
    {
      "cell_type": "markdown",
      "metadata": {
        "id": "TZqSQHucmrjL"
      },
      "source": [
        "## Vanilla training loop"
      ]
    },
    {
      "cell_type": "markdown",
      "metadata": {
        "id": "jXkx0LS6mrjM"
      },
      "source": [
        "These are classic training loops for the feedforward neural network. As customary in modern deep learning, the training set is traversed in mini-batches, where the cost function is minimized with the best practice [ADAM](https://www.tensorflow.org/versions/r1.15/api_docs/python/tf/train/AdamOptimizer) algorithm. Andrew Ng's deeplearning.ai web site has an [intuitive presentation of various optimization algorithms in deep learning](https://www.deeplearning.ai/ai-notes/optimization/)."
      ]
    },
    {
      "cell_type": "code",
      "execution_count": 4,
      "metadata": {
        "id": "TykxHUJymrjM"
      },
      "outputs": [],
      "source": [
        "def vanilla_training_graph(input_dim, hidden_units, hidden_layers, seed):\n",
        "    \n",
        "    # net\n",
        "    inputs, weights_and_biases, layers, predictions = \\\n",
        "        vanilla_net(input_dim, hidden_units, hidden_layers, seed)\n",
        "    \n",
        "    # backprop even though we are not USING differentials for training\n",
        "    # we still need them to predict derivatives dy_dx \n",
        "    derivs_predictions = backprop(weights_and_biases, layers)\n",
        "    \n",
        "    # placeholder for labels\n",
        "    labels = tf.placeholder(shape=[None, 1], dtype=real_type)\n",
        "    \n",
        "    # loss \n",
        "    loss = tf.losses.mean_squared_error(labels, predictions)\n",
        "    \n",
        "    # optimizer\n",
        "    learning_rate = tf.placeholder(real_type)\n",
        "    optimizer = tf.train.AdamOptimizer(learning_rate = learning_rate)\n",
        "    \n",
        "    # return all necessary \n",
        "    return inputs, labels, predictions, derivs_predictions, learning_rate, loss, optimizer.minimize(loss)\n",
        "\n",
        "# training loop for one epoch\n",
        "def vanilla_train_one_epoch(# training graph from vanilla_training_graph()\n",
        "                            inputs, labels, lr_placeholder, minimizer,   \n",
        "                            # training set \n",
        "                            x_train, y_train,                           \n",
        "                            # params, left to client code\n",
        "                            learning_rate, batch_size, session):        \n",
        "    \n",
        "    m, n = x_train.shape\n",
        "    \n",
        "    # minimization loop over mini-batches\n",
        "    first = 0\n",
        "    last = min(batch_size, m)\n",
        "    while first < m:\n",
        "        session.run(minimizer, feed_dict = {\n",
        "            inputs: x_train[first:last], \n",
        "            labels: y_train[first:last],\n",
        "            lr_placeholder: learning_rate\n",
        "        })\n",
        "        first = last\n",
        "        last = min(first + batch_size, m)"
      ]
    },
    {
      "cell_type": "markdown",
      "metadata": {
        "id": "pK09hmjcmrjM"
      },
      "source": [
        "## Differential training loop"
      ]
    },
    {
      "cell_type": "markdown",
      "metadata": {
        "id": "pb_2921xmrjM"
      },
      "source": [
        "The apparently similar *differential* training loop implements the main idea from the paper, to train twin networks on datasets augmented with differentials of labels to inputs, by minimization of a combined cost function reflecting errors in both predicted values *and predicted derivatives*:\n",
        "\n",
        "$$\n",
        "    c = \\alpha c_{\\text{val}} + \\beta c_{\\text{diff}}\n",
        "$$\n",
        "\n",
        "where $c_{\\text{val}}$ is the classic mean square error (MSE) of predictions to labels and $c_{\\text{diff}}$ is the cost of wrong derivatives:\n",
        "\n",
        "$$\n",
        "    c_{\\text{diff}} = \\frac{\\sum_{\\text{inputs j}} \\lambda_j^2 {mse}_j}{\\text{num inputs}}\n",
        "$$\n",
        "\n",
        "where ${mse}_j$ is the mean squared error of derivatives to input $j$ and the weights $\\lambda_j$ normalize derivatives so all the components of the cost have similar magnitudes, as explained in the article. We provide a basic normalization formula for the weights a few cells below, and a complete review of data preparation and weighting in [this appendix](https://github.com/differential-machine-learning/appendices/blob/master/App2-Preprocessing.pdf).\n",
        "\n",
        "\n"
      ]
    },
    {
      "cell_type": "code",
      "execution_count": 5,
      "metadata": {
        "id": "bGLZK34YmrjN"
      },
      "outputs": [],
      "source": [
        "def diff_training_graph(\n",
        "    # same as vanilla\n",
        "    input_dim, \n",
        "    hidden_units, \n",
        "    hidden_layers, \n",
        "    seed, \n",
        "    # balance relative weight of values and differentials \n",
        "    # loss = alpha * MSE(values) + beta * MSE(greeks, lambda_j) \n",
        "    # see online appendix\n",
        "    alpha, \n",
        "    beta,\n",
        "    lambda_j):\n",
        "    \n",
        "    # net, now a twin\n",
        "    inputs, predictions, derivs_predictions = twin_net(input_dim, hidden_units, hidden_layers, seed)\n",
        "    \n",
        "    # placeholder for labels, now also derivs labels\n",
        "    labels = tf.placeholder(shape=[None, 1], dtype=real_type)\n",
        "    derivs_labels = tf.placeholder(shape=[None, derivs_predictions.shape[1]], dtype=real_type)\n",
        "    \n",
        "    # loss, now combined values + derivatives\n",
        "    loss = alpha * tf.losses.mean_squared_error(labels, predictions) \\\n",
        "    + beta * tf. losses.mean_squared_error(derivs_labels * lambda_j, derivs_predictions * lambda_j)\n",
        "    \n",
        "    # optimizer, as vanilla\n",
        "    learning_rate = tf.placeholder(real_type)\n",
        "    optimizer = tf.train.AdamOptimizer(learning_rate = learning_rate)\n",
        "    \n",
        "    # return all necessary tensors, including derivatives\n",
        "    # predictions and labels\n",
        "    return inputs, labels, derivs_labels, predictions, derivs_predictions, \\\n",
        "            learning_rate, loss, optimizer.minimize(loss)\n",
        "\n",
        "def diff_train_one_epoch(inputs, labels, derivs_labels, \n",
        "                         # graph\n",
        "                         lr_placeholder, minimizer,             \n",
        "                         # training set, extended\n",
        "                         x_train, y_train, dydx_train,          \n",
        "                         # params\n",
        "                         learning_rate, batch_size, session):   \n",
        "    \n",
        "    m, n = x_train.shape\n",
        "    \n",
        "    # minimization loop, now with Greeks\n",
        "    first = 0\n",
        "    last = min(batch_size, m)\n",
        "    while first < m:\n",
        "        session.run(minimizer, feed_dict = {\n",
        "            inputs: x_train[first:last], \n",
        "            labels: y_train[first:last],\n",
        "            derivs_labels: dydx_train[first:last],\n",
        "            lr_placeholder: learning_rate\n",
        "        })\n",
        "        first = last\n",
        "        last = min(first + batch_size, m)"
      ]
    },
    {
      "cell_type": "markdown",
      "metadata": {
        "id": "UEwj2FUfmrjN"
      },
      "source": [
        "## Combined outer training loop"
      ]
    },
    {
      "cell_type": "markdown",
      "metadata": {
        "id": "q34b2CtImrjO"
      },
      "source": [
        "The outer training loop optimizes the weights of neural approximators for a number of epochs (complete sweeps of the training set). We applied the recent [one-cycle learning rate schedule](https://arxiv.org/abs/1803.09820) of Leslie Smith and found that it considerably accelerates and stabilizes the training of neural networks. 100 epochs is more than sufficient in most practical cases. A convergence and/or cross-validation test may be included for early stopping. Typical training takes around a second on a decent GPU (longer on Colab's shared GPUs). The approximator class, defined next, holds all the necessary data and parameters, along with the TensorFlow graph and computing session."
      ]
    },
    {
      "cell_type": "code",
      "execution_count": 6,
      "metadata": {
        "id": "1COeYOwOmrjO"
      },
      "outputs": [],
      "source": [
        "def train(description,\n",
        "          # neural approximator\n",
        "          approximator,              \n",
        "          # training params\n",
        "          reinit=True, \n",
        "          epochs=100, \n",
        "          # one-cycle learning rate schedule\n",
        "          learning_rate_schedule=[    (0.0, 1.0e-8), \\\n",
        "                                      (0.2, 0.1),    \\\n",
        "                                      (0.6, 0.01),   \\\n",
        "                                      (0.9, 1.0e-6), \\\n",
        "                                      (1.0, 1.0e-8)  ], \n",
        "          batches_per_epoch=16,\n",
        "          min_batch_size=256,\n",
        "          # callback function and when to call it\n",
        "          callback=None,           # arbitrary callable\n",
        "          callback_epochs=[]):     # call after what epochs, e.g. [5, 20]\n",
        "              \n",
        "    # batching\n",
        "    batch_size = max(min_batch_size, approximator.m // batches_per_epoch)\n",
        "    \n",
        "    # one-cycle learning rate sechedule\n",
        "    lr_schedule_epochs, lr_schedule_rates = zip(*learning_rate_schedule)\n",
        "            \n",
        "    # reset\n",
        "    if reinit:\n",
        "        approximator.session.run(approximator.initializer)\n",
        "    \n",
        "    # callback on epoch 0, if requested\n",
        "    if callback and 0 in callback_epochs:\n",
        "        callback(approximator, 0)\n",
        "        \n",
        "    # loop on epochs, with progress bar (tqdm)\n",
        "    for epoch in tqdm_notebook(range(epochs), desc=description):\n",
        "        \n",
        "        # interpolate learning rate in cycle\n",
        "        learning_rate = np.interp(epoch / epochs, lr_schedule_epochs, lr_schedule_rates)\n",
        "        \n",
        "        # train one epoch\n",
        "        \n",
        "        if not approximator.differential:\n",
        "        \n",
        "            vanilla_train_one_epoch(\n",
        "                approximator.inputs, \n",
        "                approximator.labels, \n",
        "                approximator.learning_rate, \n",
        "                approximator.minimizer, \n",
        "                approximator.x, \n",
        "                approximator.y, \n",
        "                learning_rate, \n",
        "                batch_size, \n",
        "                approximator.session)\n",
        "        \n",
        "        else:\n",
        "        \n",
        "            diff_train_one_epoch(\n",
        "                approximator.inputs, \n",
        "                approximator.labels, \n",
        "                approximator.derivs_labels,\n",
        "                approximator.learning_rate, \n",
        "                approximator.minimizer, \n",
        "                approximator.x, \n",
        "                approximator.y, \n",
        "                approximator.dy_dx,\n",
        "                learning_rate, \n",
        "                batch_size, \n",
        "                approximator.session)\n",
        "        \n",
        "        # callback, if requested\n",
        "        if callback and epoch in callback_epochs:\n",
        "            callback(approximator, epoch)\n",
        "\n",
        "    # final callback, if requested\n",
        "    if callback and epochs in callback_epochs:\n",
        "        callback(approximator, epochs)        \n"
      ]
    },
    {
      "cell_type": "markdown",
      "metadata": {
        "id": "gnmDGIYvmrjP"
      },
      "source": [
        "## Data normalization"
      ]
    },
    {
      "cell_type": "markdown",
      "metadata": {
        "id": "rGu-6xGlmrjP"
      },
      "source": [
        "The practical performance of neural networks strongly depends on implementation details, like weight initialization and optimization. Another crucial practicality is the *normalization of training data*. We refer to deep learning texbooks for a discussion of the importance of normalization. One reason is that we need hyperparameters like the learning rate schedule to remain constant over datasets. If notional was to be increased by factor 1M all things equal, gradients would be multiplied by 1M too and learning rates would have to be divided by 1M to keep things similar. Normalizing data avoids manual tinkering of hyperparameters for different datasets. All the examples in the paper: the Gaussian basket, the autocallable trade and the netting set, were all approximated with the exact same hyperparameters. This is only possible with normalized datasets. \n",
        "\n",
        "We implement below a *basic* normalization strategy, where the training inputs and labels are normalized by mean and standard deviation, with differentials normalized accordingly. The differential weights in the cost function $\\lambda_j$ divide costs by the norm of the normalized differentials, keeping similar the magnitude of all the components of the cost.\n",
        "\n",
        "We can do a lot better, especially with differential labels. We could perform successive changes of basis, combined with filtering strategies, to feed neural networks with data orthonormal in terms of inputs *and* in terms of differentials, highlighting the most significant risk factors and filtering out the irrelevant ones. This is covered in detail in the [this appendix](https://github.com/differential-machine-learning/appendices/blob/master/App2-Preprocessing.pdf), where we discuss novel, and extremely effective data preparation algorithms, exploiting information contained in differential labels to considerably alleviate the load of training neural networks and subsequently, improve training performance and reduce sensitivity to hyperparameters. \n",
        "\n",
        "Although the basic normalization implemented here is sufficient for textbook examples, a reliable implementation in production for arbitrary schedules of cash-flows, resilient to very high dimensionality, necessitatesthe more complete data preparation.\n",
        "\n",
        "Note that the prediction of values and derivatives must be adjusted accordingly: prediction inputs must be normalized, and resulting predictions must be 'un-normalized'. "
      ]
    },
    {
      "cell_type": "code",
      "execution_count": 7,
      "metadata": {
        "id": "K5Y8H7bGmrjQ"
      },
      "outputs": [],
      "source": [
        "# basic data preparation\n",
        "epsilon = 1.0e-08\n",
        "def normalize_data(x_raw, y_raw, dydx_raw=None, crop=None):\n",
        "    \n",
        "    # crop dataset\n",
        "    m = crop if crop is not None else x_raw.shape[0]\n",
        "    x_cropped = x_raw[:m]\n",
        "    y_cropped = y_raw[:m]\n",
        "    dycropped_dxcropped = dydx_raw[:m] if dydx_raw is not None else None\n",
        "    \n",
        "    # normalize dataset\n",
        "    x_mean = x_cropped.mean(axis=0)\n",
        "    x_std = x_cropped.std(axis=0) + epsilon\n",
        "    x = (x_cropped- x_mean) / x_std\n",
        "    y_mean = y_cropped.mean(axis=0)\n",
        "    y_std = y_cropped.std(axis=0) + epsilon\n",
        "    y = (y_cropped-y_mean) / y_std\n",
        "    \n",
        "    # normalize derivatives too\n",
        "    if dycropped_dxcropped is not None:\n",
        "        dy_dx = dycropped_dxcropped / y_std * x_std \n",
        "        # weights of derivatives in cost function = (quad) mean size\n",
        "        lambda_j = 1.0 / np.sqrt((dy_dx ** 2).mean(axis=0)).reshape(1, -1)\n",
        "    else:\n",
        "        dy_dx = None\n",
        "        lambda_j = None\n",
        "    \n",
        "    return x_mean, x_std, x, y_mean, y_std, y, dy_dx, lambda_j"
      ]
    },
    {
      "cell_type": "markdown",
      "metadata": {
        "id": "scvIqupAmrjQ"
      },
      "source": [
        "## Putting it all together"
      ]
    },
    {
      "cell_type": "markdown",
      "metadata": {
        "id": "zMzNB3n8mrjQ"
      },
      "source": [
        "For convenience, we put it all together in a *Neural_Approximator* class. Most of the code should be self explanatory. \n",
        "\n",
        "Note that we compute the coefficients $\\alpha$ and $\\beta$ for balancing cost between values and derivatives in a straightforward manner:\n",
        "\n",
        "$$\n",
        "    \\alpha = \\frac{1}{1 + \\lambda n} \\text{ and }  \\beta = \\frac{\\lambda n}{1 + \\lambda n}\n",
        "$$\n",
        "\n",
        "where $n$ is the number of inputs, so an error on a derivative has a weight similar to a value error, and $\\lambda$ is a hyperparameter without significant effect, as explained in the paper, and left to 1, safe for debugging.\n",
        "\n",
        "We implement a simple, feedforward architecture with 4 hidden layers of 20 units, throughout our tests. We kept the same architecture in production, with the addition of a *wide and deep* layer, inspired by [Google](https://ai.googleblog.com/2016/06/wide-deep-learning-better-together-with.html) and discussed in the [this appendix](https://github.com/differential-machine-learning/appendices/blob/master/App4-UnsupervisedTraining.pdf)."
      ]
    },
    {
      "cell_type": "code",
      "execution_count": 8,
      "metadata": {
        "id": "wXp2F-bImrjR"
      },
      "outputs": [],
      "source": [
        "class Neural_Approximator():\n",
        "    \n",
        "    def __init__(self, x_raw, y_raw, \n",
        "                 dydx_raw=None):      # derivatives labels, \n",
        "       \n",
        "        self.x_raw = x_raw\n",
        "        self.y_raw = y_raw\n",
        "        self.dydx_raw = dydx_raw\n",
        "        \n",
        "        # tensorflow logic\n",
        "        self.graph = None\n",
        "        self.session = None\n",
        "                        \n",
        "    def __del__(self):\n",
        "        if self.session is not None:\n",
        "            self.session.close()\n",
        "        \n",
        "    def build_graph(self,\n",
        "                differential,       # differential or not           \n",
        "                lam,                # balance cost between values and derivs  \n",
        "                hidden_units, \n",
        "                hidden_layers, \n",
        "                weight_seed):\n",
        "        \n",
        "        # first, deal with tensorflow logic\n",
        "        if self.session is not None:\n",
        "            self.session.close()\n",
        "\n",
        "        self.graph = tf.Graph()\n",
        "        \n",
        "        with self.graph.as_default():\n",
        "        \n",
        "            # build the graph, either vanilla or differential\n",
        "            self.differential = differential\n",
        "            \n",
        "            if not differential:\n",
        "            # vanilla \n",
        "                \n",
        "                self.inputs, \\\n",
        "                self.labels, \\\n",
        "                self.predictions, \\\n",
        "                self.derivs_predictions, \\\n",
        "                self.learning_rate, \\\n",
        "                self.loss, \\\n",
        "                self.minimizer \\\n",
        "                = vanilla_training_graph(self.n, hidden_units, hidden_layers, weight_seed)\n",
        "                    \n",
        "            else:\n",
        "            # differential\n",
        "            \n",
        "                if self.dy_dx is None:\n",
        "                    raise Exception(\"No differential labels for differential training graph\")\n",
        "            \n",
        "                self.alpha = 1.0 / (1.0 + lam * self.n)\n",
        "                self.beta = 1.0 - self.alpha\n",
        "                \n",
        "                self.inputs, \\\n",
        "                self.labels, \\\n",
        "                self.derivs_labels, \\\n",
        "                self.predictions, \\\n",
        "                self.derivs_predictions, \\\n",
        "                self.learning_rate, \\\n",
        "                self.loss, \\\n",
        "                self.minimizer = diff_training_graph(self.n, hidden_units, \\\n",
        "                                                     hidden_layers, weight_seed, \\\n",
        "                                                     self.alpha, self.beta, self.lambda_j)\n",
        "        \n",
        "            # global initializer\n",
        "            self.initializer = tf.global_variables_initializer()\n",
        "            \n",
        "        # done\n",
        "        self.graph.finalize()\n",
        "        self.session = tf.Session(graph=self.graph)\n",
        "                        \n",
        "    # prepare for training with m examples, standard or differential\n",
        "    def prepare(self, \n",
        "                m, \n",
        "                differential,\n",
        "                lam=1,              # balance cost between values and derivs  \n",
        "                # standard architecture\n",
        "                hidden_units=20, \n",
        "                hidden_layers=4, \n",
        "                weight_seed=None):\n",
        "\n",
        "        # prepare dataset\n",
        "        self.x_mean, self.x_std, self.x, self.y_mean, self.y_std, self.y, self.dy_dx, self.lambda_j = \\\n",
        "            normalize_data(self.x_raw, self.y_raw, self.dydx_raw, m)\n",
        "        \n",
        "        # build graph        \n",
        "        self.m, self.n = self.x.shape        \n",
        "        self.build_graph(differential, lam, hidden_units, hidden_layers, weight_seed)\n",
        "        \n",
        "    def train(self,            \n",
        "              description=\"training\",\n",
        "              # training params\n",
        "              reinit=True, \n",
        "              epochs=100, \n",
        "              # one-cycle learning rate schedule\n",
        "              learning_rate_schedule=[\n",
        "                  (0.0, 1.0e-8), \n",
        "                  (0.2, 0.1), \n",
        "                  (0.6, 0.01), \n",
        "                  (0.9, 1.0e-6), \n",
        "                  (1.0, 1.0e-8)], \n",
        "              batches_per_epoch=16,\n",
        "              min_batch_size=256,\n",
        "              # callback and when to call it\n",
        "              # we don't use callbacks, but this is very useful, e.g. for debugging\n",
        "              callback=None,           # arbitrary callable\n",
        "              callback_epochs=[]):     # call after what epochs, e.g. [5, 20]\n",
        "              \n",
        "        train(description, \n",
        "              self, \n",
        "              reinit, \n",
        "              epochs, \n",
        "              learning_rate_schedule, \n",
        "              batches_per_epoch, \n",
        "              min_batch_size,\n",
        "              callback, \n",
        "              callback_epochs)\n",
        "     \n",
        "    def predict_values(self, x):\n",
        "        # scale\n",
        "        x_scaled = (x-self.x_mean) / self.x_std \n",
        "        # predict scaled\n",
        "        y_scaled = self.session.run(self.predictions, feed_dict = {self.inputs: x_scaled})\n",
        "        # unscale\n",
        "        y = self.y_mean + self.y_std * y_scaled\n",
        "        return y\n",
        "\n",
        "    def predict_values_and_derivs(self, x):\n",
        "        # scale\n",
        "        x_scaled = (x-self.x_mean) / self.x_std\n",
        "        # predict scaled\n",
        "        y_scaled, dyscaled_dxscaled = self.session.run(\n",
        "            [self.predictions, self.derivs_predictions], \n",
        "            feed_dict = {self.inputs: x_scaled})\n",
        "        # unscale\n",
        "        y = self.y_mean + self.y_std * y_scaled\n",
        "        dydx = self.y_std / self.x_std * dyscaled_dxscaled\n",
        "        return y, dydx"
      ]
    },
    {
      "cell_type": "code",
      "execution_count": 9,
      "metadata": {
        "id": "9qNr1rdEmrjT"
      },
      "outputs": [],
      "source": [
        "def test(generator, \n",
        "         sizes, \n",
        "         nTest, \n",
        "         simulSeed=None, \n",
        "         testSeed=None, \n",
        "         weightSeed=None, \n",
        "         deltidx=0):\n",
        "\n",
        "    # simulation\n",
        "    print(\"simulating training, valid and test sets\")\n",
        "    xTrain, yTrain, dydxTrain = generator.trainingSet(max(sizes), seed=simulSeed)\n",
        "    xTest, xAxis, yTest, dydxTest, vegas = generator.testSet(num=nTest, seed=testSeed)\n",
        "    print(\"done\")\n",
        "\n",
        "    # neural approximator\n",
        "    print(\"initializing neural appropximator\")\n",
        "    regressor = Neural_Approximator(xTrain, yTrain, dydxTrain)\n",
        "    print(\"done\")\n",
        "    \n",
        "    predvalues = {}    \n",
        "    preddeltas = {}\n",
        "    for size in sizes:        \n",
        "            \n",
        "        print(\"\\nsize %d\" % size)\n",
        "        regressor.prepare(size, False, weight_seed=weightSeed)\n",
        "            \n",
        "        t0 = time.time()\n",
        "        regressor.train(\"standard training\")\n",
        "        predictions, deltas = regressor.predict_values_and_derivs(xTest)\n",
        "        predvalues[(\"standard\", size)] = predictions\n",
        "        preddeltas[(\"standard\", size)] = deltas[:, deltidx]\n",
        "        t1 = time.time()\n",
        "        \n",
        "        regressor.prepare(size, True, weight_seed=weightSeed)\n",
        "            \n",
        "        t0 = time.time()\n",
        "        regressor.train(\"differential training\")\n",
        "        predictions, deltas = regressor.predict_values_and_derivs(xTest)\n",
        "        predvalues[(\"differential\", size)] = predictions\n",
        "        preddeltas[(\"differential\", size)] = deltas[:, deltidx]\n",
        "        t1 = time.time()\n",
        "        \n",
        "    return xAxis, yTest, dydxTest[:, deltidx], vegas, predvalues, preddeltas, regressor\n",
        "\n",
        "def graph(title, \n",
        "          predictions, \n",
        "          xAxis, \n",
        "          xAxisName, \n",
        "          yAxisName, \n",
        "          targets, \n",
        "          sizes, \n",
        "          computeRmse=False, \n",
        "          weights=None):\n",
        "    \n",
        "    numRows = len(sizes)\n",
        "    numCols = 2\n",
        "\n",
        "    fig, ax = plt.subplots(numRows, numCols, squeeze=False)\n",
        "    fig.set_size_inches(4 * numCols + 1.5, 4 * numRows)\n",
        "\n",
        "    for i, size in enumerate(sizes):\n",
        "        ax[i,0].annotate(\"size %d\" % size, xy=(0, 0.5), \n",
        "          xytext=(-ax[i,0].yaxis.labelpad-5, 0),\n",
        "          xycoords=ax[i,0].yaxis.label, textcoords='offset points',\n",
        "          ha='right', va='center')\n",
        "  \n",
        "    ax[0,0].set_title(\"standard\")\n",
        "    ax[0,1].set_title(\"differential\")\n",
        "    \n",
        "    for i, size in enumerate(sizes):        \n",
        "        for j, regType, in enumerate([\"standard\", \"differential\"]):\n",
        "\n",
        "            if computeRmse:\n",
        "                errors = 100 * (predictions[(regType, size)] - targets)\n",
        "                if weights is not None:\n",
        "                    errors /= weights\n",
        "                rmse = np.sqrt((errors ** 2).mean(axis=0))\n",
        "                t = \"rmse %.2f\" % rmse\n",
        "            else:\n",
        "                t = xAxisName\n",
        "                \n",
        "            ax[i,j].set_xlabel(t)            \n",
        "            ax[i,j].set_ylabel(yAxisName)\n",
        "\n",
        "            ax[i,j].plot(xAxis*100, predictions[(regType, size)]*100, 'co', \\\n",
        "                         markersize=2, markerfacecolor='white', label=\"predicted\")\n",
        "            ax[i,j].plot(xAxis*100, targets*100, 'r.', markersize=0.5, label='targets')\n",
        "\n",
        "            ax[i,j].legend(prop={'size': 8}, loc='upper left')\n",
        "\n",
        "    plt.tight_layout()\n",
        "    plt.subplots_adjust(top=0.9)\n",
        "    plt.suptitle(\"% s -- %s\" % (title, yAxisName), fontsize=16)\n",
        "    plt.show()\n"
      ]
    },
    {
      "cell_type": "code",
      "execution_count": 10,
      "metadata": {
        "id": "_Uoyu-Y_mrjZ"
      },
      "outputs": [],
      "source": [
        "# generates a random correlation matrix\n",
        "def genCorrel(n):\n",
        "    randoms = np.random.uniform(low=-1., high=1., size=(2*n, n))\n",
        "    cov = randoms.T @ randoms\n",
        "    invvols = np.diag(1. / np.sqrt(np.diagonal(cov)))\n",
        "    return np.linalg.multi_dot([invvols, cov, invvols])\n",
        "\n",
        "class AutoCallBS:\n",
        "    \n",
        "    def __init__(self, \n",
        "                 n,\n",
        "                 n_exercise,\n",
        "                 T1=1, \n",
        "                 Tm=4, \n",
        "                 K=[0.9, 0.85, 0.8, 0.7],\n",
        "                 cpn=[0.03, 0.06, 0.09, 0.12],\n",
        "                 volMult=1.5):\n",
        "        \n",
        "        self.n = n\n",
        "        self.n_exercise = n_exercise\n",
        "        self.T1 = T1\n",
        "        self.Tm = Tm\n",
        "        self.K = K\n",
        "        self.volMult = volMult\n",
        "        self.cpn = cpn\n",
        "                \n",
        "    # training set: returns S1 (mxn), AC2 (mx1) and dAC2/dS1 (mxn)\n",
        "    def trainingSet(self, m, anti=True, seed=None, bktVol=0.2):\n",
        "    \n",
        "        np.random.seed(seed)\n",
        "\n",
        "        # spots all currently 1, without loss of generality\n",
        "        self.S0 = np.repeat(1., self.n)\n",
        "        # random correl\n",
        "        self.corr = genCorrel(self.n)\n",
        "\n",
        "        # random weights\n",
        "        self.a = np.random.uniform(low=1., high=10., size=self.n)\n",
        "        self.a /= np.sum(self.a)\n",
        "        # random vols\n",
        "        vols = np.random.uniform(low=5., high = 50., size = self.n)\n",
        "        # normalize vols for a given volatility of basket, \n",
        "        # helps with charts without loss of generality\n",
        "        avols = (self.a * vols).reshape((-1,1))\n",
        "        v = np.sqrt(np.linalg.multi_dot([avols.T, self.corr, avols]).reshape(1))\n",
        "        self.vols = vols * bktVol / v\n",
        "        self.bktVol = bktVol\n",
        "\n",
        "        # Choleski etc. for simulation\n",
        "        diagv = np.diag(self.vols)\n",
        "        self.cov = np.linalg.multi_dot([diagv, self.corr, diagv])\n",
        "        self.chol = np.linalg.cholesky(self.cov) * np.sqrt((self.Tm - self.T1)/self.n_exercise)\n",
        "        # increase vols for simulation of X so we have more samples in the wings\n",
        "        self.chol0 = self.chol * self.volMult * np.sqrt(self.T1/(self.Tm - self.T1)*self.n_exercise)\n",
        "        # simulations\n",
        "        normals = np.random.normal(size=[self.n_exercise + 1, m, self.n])\n",
        "        # R1 = np.exp(-0.5*(self.vols*self.volMult)**2*self.T1 + normals[0, :, :] @ self.chol0.T)\n",
        "        R1 = np.random.uniform(low=0.3, high = 1.3, size=[m, self.n])\n",
        "        S1 = self.S0 * R1\n",
        "        R_dic = {}\n",
        "        R_dic['R1'] = R1\n",
        "        S_dic = {}\n",
        "        S_dic['S1'] = S1\n",
        "        for t_i in range(self.n_exercise):\n",
        "            R_dic['R{}'.format(t_i+2)] = np.exp(-0.5*self.vols**2*(self.Tm - self.T1)/self.n_exercise + normals[t_i+1, :, :] @ self.chol.T)\n",
        "            S_dic['S{}'.format(t_i+2)] = S_dic['S{}'.format(t_i+1)] * R_dic['R{}'.format(t_i+2)]\n",
        "        \n",
        "        pay, refund_idx_dict, oh_value = self.payoff(S_dic)\n",
        "            \n",
        "        # two antithetic paths\n",
        "        if anti:\n",
        "            Ra_dic = {}\n",
        "            Ra_dic['R1'] = R1\n",
        "            Sa_dic = {}\n",
        "            Sa_dic['S1'] = S1\n",
        "            for t_i in range(self.n_exercise):\n",
        "                Ra_dic['R{}'.format(t_i+2)] = np.exp(-0.5*self.vols**2*(self.Tm - self.T1)/self.n_exercise - normals[t_i+1, :, :] @ self.chol.T)\n",
        "                Sa_dic['S{}'.format(t_i+2)] = Sa_dic['S{}'.format(t_i+1)] * Ra_dic['R{}'.format(t_i+2)]\n",
        "            \n",
        "            paya, refund_idx_dict_a, oh_value = self.payoff(Sa_dic)\n",
        "            for i, key in enumerate(refund_idx_dict):\n",
        "                print('probability of path {}'.format(key), np.mean(refund_idx_dict[key]))\n",
        "                print('probability of antipath {}'.format(key), np.mean(refund_idx_dict_a[key]))\n",
        "            \n",
        "            X = S1\n",
        "            Y = 0.5 * (pay + paya)\n",
        "\n",
        "            STm = S_dic['S{}'.format(self.n_exercise+1)]\n",
        "            STma = Sa_dic['S{}'.format(self.n_exercise+1)]\n",
        "            \n",
        "            # differentials\n",
        "            # Z1 = (refund_idx_dict['norefund'].reshape((-1,1)) + refund_idx_dict['ohidx'].reshape((-1,1)) * oh_value) * np.min(STm, axis=1).reshape((-1,1)) / S1 # smoking_adjoints\n",
        "            # Z2 = (refund_idx_dict_a['norefund'].reshape((-1,1)) + refund_idx_dict_a['ohidx'].reshape((-1,1)) * oh_value) * np.min(STma, axis=1).reshape((-1,1)) / S1\n",
        "            Z1 =  np.where(np.min(STm, axis=1).reshape((-1,1)) == STm, 1.0, 0.0) * (refund_idx_dict['norefund'].reshape((-1,1)) + refund_idx_dict['ohidx'].reshape((-1,1)) * oh_value) * STm / S1 \n",
        "            Z2 =  np.where(np.min(STma, axis=1).reshape((-1,1)) == STma, 1.0, 0.0) * (refund_idx_dict_a['norefund'].reshape((-1,1)) + refund_idx_dict_a['ohidx'].reshape((-1,1)) * oh_value) * STma / S1\n",
        "\n",
        "            Z = 0.5 * (Z1 + Z2)\n",
        "                    \n",
        "        # standard\n",
        "        else:\n",
        "        \n",
        "            X = S1\n",
        "            Y = pay\n",
        "\n",
        "            STm = S_dic['S{}'.format(self.n_exercise+1)]\n",
        "\n",
        "            # differentials\n",
        "            Z =  np.where(np.min(STm, axis=1).reshape((-1,1)) == STm, 1.0, 0.0) * refund_idx_dict['norefund'].reshape((-1,1)) * STm / S1\n",
        "            # Z = unrefund_idx.reshape((-1,1)) * np.min(STm, axis=1).reshape((-1,1)) / S1 # smoking_adjoints\n",
        "        return X, Y.reshape(-1,1), Z\n",
        "\n",
        "    def payoff(self, S_dic):\n",
        "        #check validation\n",
        "        if len(S_dic) != self.n_exercise + 1:\n",
        "            print(\"path generate error\")\n",
        "            exit()\n",
        "        m = len(S_dic['S1'])\n",
        "        norefund_idx = np.ones_like(S_dic['S1'][:, 0])\n",
        "        pay = np.zeros_like(S_dic['S1'][:, 0])\n",
        "        prob = 0\n",
        "        refund_idx_dict = {}\n",
        "        for i, key in enumerate(S_dic):\n",
        "            if key != 'S1':\n",
        "                # print(i, self.K[i-1], key)\n",
        "                price = S_dic[key]\n",
        "                price *= norefund_idx.reshape((-1,1))\n",
        "                # refund_idx = np.all(np.maximum(0, price - self.K[i-1]*S_dic['S1']), axis=1).astype(np.float64)\n",
        "                refund_idx = np.all(np.maximum(0, price - self.K[i-1]), axis=1).astype(np.float64)\n",
        "                refund_idx_dict[key] = refund_idx\n",
        "                prob += sum(refund_idx)\n",
        "                pay += refund_idx * (1+self.cpn[i-1])\n",
        "                norefund_idx -= refund_idx\n",
        "\n",
        "        unrefund_price = np.min(price * norefund_idx.reshape((-1,1)), axis=1)\n",
        "        oh_value = 5.\n",
        "        K_star = (1 + self.cpn[-1] - oh_value*self.K[-1])/(1-oh_value)\n",
        "        oh_idx = np.where(unrefund_price >= K_star, 1.0, 0.0)\n",
        "        refund_idx_dict['ohidx'] = oh_idx\n",
        "        norefund_idx -= oh_idx \n",
        "        refund_idx_dict['norefund'] = norefund_idx\n",
        "        prob += sum(norefund_idx + oh_idx)\n",
        "        pay += np.min(price * norefund_idx.reshape((-1,1)), axis=1)\n",
        "        pay += ((unrefund_price - K_star) * oh_value + K_star) * oh_idx\n",
        "\n",
        "        if prob/m != 1.:\n",
        "            print('payoff probability is not 1', prob)\n",
        "            exit()\n",
        "        return pay, refund_idx_dict, oh_value\n",
        "\n",
        "    def pricing_AutoCall_mc(self, spots, normals):\n",
        "        \n",
        "        R_dic = {}\n",
        "        S_dic = {}\n",
        "        S_dic['S1'] = np.ones(shape=(100000, self.n)) * spots.reshape((1, -1))\n",
        "\n",
        "        for t_i in range(self.n_exercise):\n",
        "            R_dic['R{}'.format(t_i+2)] = np.exp(-0.5*self.vols**2*(self.Tm - self.T1)/self.n_exercise + normals[t_i, :, :] @ self.chol.T)\n",
        "            S_dic['S{}'.format(t_i+2)] = S_dic['S{}'.format(t_i+1)] * R_dic['R{}'.format(t_i+2)]\n",
        "        # anti\n",
        "        Ra_dic = {}\n",
        "        Sa_dic = {}\n",
        "        Sa_dic['S1'] = S_dic['S1']\n",
        "        \n",
        "        for t_i in range(self.n_exercise):\n",
        "            Ra_dic['R{}'.format(t_i+2)] = np.exp(-0.5*self.vols**2*(self.Tm - self.T1)/self.n_exercise - normals[t_i, :, :] @ self.chol.T)\n",
        "            Sa_dic['S{}'.format(t_i+2)] = Sa_dic['S{}'.format(t_i+1)] * Ra_dic['R{}'.format(t_i+2)]      \n",
        "        \n",
        "        pay, refund_idx_dict, oh_value = self.payoff(S_dic)\n",
        "        paya, refund_idx_dict_a, oh_value = self.payoff(Sa_dic)\n",
        "        \n",
        "        return np.mean(pay + paya) * 0.5\n",
        "        \n",
        "    # test set: returns an array of independent, uniformly random spots \n",
        "    # with corresponding baskets, ground true prices, deltas and vegas\n",
        "    def testSet(self, lower=0.5, upper=1.50, num=4096, seed=None):\n",
        "        \n",
        "        np.random.seed(seed)\n",
        "        # adjust lower and upper for dimension\n",
        "        adj = 1 + 0.5 * np.sqrt((self.n-1)*(upper-lower)/12)\n",
        "        adj_lower = 1.0 - (1.0-lower) * adj\n",
        "        adj_upper = 1.0 + (upper - 1.0) * adj\n",
        "        # draw spots\n",
        "        spots = np.random.uniform(low=adj_lower, high = adj_upper, size=(num, self.n))\n",
        "        normals = np.random.normal(size=[self.n_exercise, 100000, self.n])\n",
        "        # compute prices, deltas and vegas\n",
        "        prices = np.zeros(shape=(num, 1))\n",
        "        deltas = np.zeros(shape=(num, 1))\n",
        "        fones = np.ones(shape=(1, self.n))\n",
        "        fones[0][0] += 0.01 \n",
        "        bones = np.ones(shape=(1, self.n))\n",
        "        bones[0][0] -= 0.01\n",
        "\n",
        "        f1spots = spots * fones\n",
        "        b1spots = spots * bones\n",
        "\n",
        "        for i in range(num):\n",
        "            prices[i] += self.pricing_AutoCall_mc(spots[i], normals)\n",
        "            deltas[i] += (self.pricing_AutoCall_mc(f1spots[i], normals) - self.pricing_AutoCall_mc(b1spots[i], normals)) / (2*spots[i][0]*0.01)\n",
        "        prices = prices.reshape((-1, 1))\n",
        "        deltas = deltas.reshape((-1, 1))\n",
        "        vegas = 0\n",
        "        return spots, spots, prices, deltas, vegas"
      ]
    },
    {
      "cell_type": "code",
      "source": [
        "\n",
        "# simulation set sizes to perform\n",
        "sizes = [100000, 200000]\n",
        "\n",
        "# show delta?\n",
        "showDeltas = True\n",
        "deltidx = 0 # show delta to first stock\n",
        "\n",
        "# seed\n",
        "simulSeed = 605\n",
        "# simulSeed = np.random.randint(0, 10000) \n",
        "print(\"using seed %d\" % simulSeed)\n",
        "testSeed = None\n",
        "weightSeed = None\n",
        "    \n",
        "# number of test scenarios\n",
        "nTest = 40    \n",
        "\n",
        "# go\n",
        "generator = AutoCallBS(3, 4)\n",
        "xAxis, yTest, dydxTest, vegas, values, deltas, regressor = \\\n",
        "    test(generator, sizes, nTest, simulSeed, None, weightSeed)"
      ],
      "metadata": {
        "colab": {
          "base_uri": "https://localhost:8080/",
          "height": 499,
          "referenced_widgets": [
            "498d19c740e44a1f8fc59bb8fb616ec1",
            "12f798e5f14543d299b8b83456cb458a",
            "8cf2f95e500f4e40826f77fb7f364bd8",
            "f3bac4f9a19242ee9bf76a1e821715cd",
            "ce5a29acffd74f4093215b9bdeaa7d4b",
            "f363ab310cdb488db44ea442dd9f842b",
            "db4181d3586c44388edc8d2d8d01684f",
            "efdd08fb115e490d90ce377c32b23e38",
            "0f925aca1e404294ba0f7c8f2c9b3a37",
            "0610c0e94977447c9d8315e0dc0477ed",
            "daeb940e46f54a39b025e5b3099d6fac",
            "52ed708f781d4095aaecece7dde9a90c",
            "9d02ad920b794cf69fef253598cbf8a7",
            "ccf40173b7b04216b4d5d3608fd0389f",
            "21eed9b4d8f54560afb3a3dead5c07e3",
            "adad9d54a4a54434aa7361b2399cd9b5",
            "5b01fa82785c4f4cbeab852f7b6dcf38",
            "fbfed2ad62834781ad86de04d0262b40",
            "99a9b107cae94554a882c785c0d3b5e2",
            "06af47f58eb54da39d79e7539e9a67df",
            "43b906307c474a6e947e05fdc1619f1f",
            "bfc7ca0df8d74552be71a5c3947d5190",
            "ea9e7c017ee24e8e9cac119c2a9ed00a",
            "6d9bbf1b72f84ff6b14d2ea02637a777",
            "2d1a17e44a124ea482f5cc3eccc6ab69",
            "d407d3fbf1824c38be3f5d47b3ccf9e2",
            "eb80ca968d204d65906cc2898a8963c7",
            "91205a98cb4f40b8b1e512cebe083f62",
            "f4a6474b1c914ddfad8d6c12fa4adb5c",
            "9f90afc1e1df48b09436427ffae8c4b9",
            "69ddff140e464387bf9748390d2afb9b",
            "6f69249d0ce74f30ab59856a00c393b9",
            "08d387193faa40b5bcff4427a8e4793a"
          ]
        },
        "id": "qBFjZtSQYXaR",
        "outputId": "1254c6dc-601d-44db-ad40-d168f260f922"
      },
      "execution_count": null,
      "outputs": [
        {
          "output_type": "stream",
          "name": "stdout",
          "text": [
            "using seed 605\n",
            "simulating training, valid and test sets\n",
            "probability of path S2 0.04515\n",
            "probability of antipath S2 0.04437\n",
            "probability of path S3 0.026915\n",
            "probability of antipath S3 0.027095\n",
            "probability of path S4 0.02594\n",
            "probability of antipath S4 0.02669\n",
            "probability of path S5 0.04768\n",
            "probability of antipath S5 0.047505\n",
            "probability of path ohidx 0.067125\n",
            "probability of antipath ohidx 0.06608\n",
            "probability of path norefund 0.78719\n",
            "probability of antipath norefund 0.78826\n",
            "done\n",
            "initializing neural appropximator\n",
            "done\n",
            "\n",
            "size 100000\n"
          ]
        },
        {
          "output_type": "display_data",
          "data": {
            "text/plain": [
              "standard training:   0%|          | 0/100 [00:00<?, ?it/s]"
            ],
            "application/vnd.jupyter.widget-view+json": {
              "version_major": 2,
              "version_minor": 0,
              "model_id": "498d19c740e44a1f8fc59bb8fb616ec1"
            }
          },
          "metadata": {}
        },
        {
          "output_type": "display_data",
          "data": {
            "text/plain": [
              "differential training:   0%|          | 0/100 [00:00<?, ?it/s]"
            ],
            "application/vnd.jupyter.widget-view+json": {
              "version_major": 2,
              "version_minor": 0,
              "model_id": "52ed708f781d4095aaecece7dde9a90c"
            }
          },
          "metadata": {}
        },
        {
          "output_type": "stream",
          "name": "stdout",
          "text": [
            "\n",
            "size 200000\n"
          ]
        },
        {
          "output_type": "display_data",
          "data": {
            "text/plain": [
              "standard training:   0%|          | 0/100 [00:00<?, ?it/s]"
            ],
            "application/vnd.jupyter.widget-view+json": {
              "version_major": 2,
              "version_minor": 0,
              "model_id": "ea9e7c017ee24e8e9cac119c2a9ed00a"
            }
          },
          "metadata": {}
        }
      ]
    },
    {
      "cell_type": "code",
      "source": [
        "%matplotlib inline"
      ],
      "metadata": {
        "id": "aL-M_FDoAInr"
      },
      "execution_count": 12,
      "outputs": []
    },
    {
      "cell_type": "code",
      "source": [
        "# show predicitions\n",
        "graph(\"AutoCall seed %d\" % simulSeed , values, xAxis, \"\", \"values\", yTest, sizes, True)\n",
        "\n",
        "# show deltas\n",
        "if showDeltas:\n",
        "    graph(\"AutoCall\", deltas, xAxis[:,0], \"\", \"deltas\", dydxTest, sizes, True)"
      ],
      "metadata": {
        "id": "MWDWo6emrLLD"
      },
      "execution_count": null,
      "outputs": []
    },
    {
      "cell_type": "code",
      "source": [],
      "metadata": {
        "id": "Cntx5WofrLEj"
      },
      "execution_count": 13,
      "outputs": []
    },
    {
      "cell_type": "code",
      "source": [
        "# show predicitions\n",
        "graph(\"AutoCall seed %d\" % simulSeed , values, xAxis, \"\", \"values\", yTest, sizes, True)\n",
        "\n",
        "# show deltas\n",
        "if showDeltas:\n",
        "    graph(\"AutoCall\", deltas, xAxis[:,0], \"\", \"deltas\", dydxTest, sizes, True)"
      ],
      "metadata": {
        "id": "NEOsX9sVm8_p",
        "outputId": "5cbf3474-127f-4e33-e44b-c843d8fd783f",
        "colab": {
          "base_uri": "https://localhost:8080/",
          "height": 1000
        }
      },
      "execution_count": 14,
      "outputs": [
        {
          "output_type": "display_data",
          "data": {
            "text/plain": [
              "<Figure size 684x576 with 4 Axes>"
            ],
            "image/png": "[encoded data removed]"
          },
          "metadata": {
            "needs_background": "light"
          }
        },
        {
          "output_type": "display_data",
          "data": {
            "text/plain": [
              "<Figure size 684x576 with 4 Axes>"
            ],
            "image/png": "[encoded data removed]"
          },
          "metadata": {
            "needs_background": "light"
          }
        }
      ]
    },
    {
      "cell_type": "code",
      "source": [
        "# show predicitions\n",
        "graph(\"AutoCall seed %d\" % simulSeed , values, xAxis, \"\", \"values\", yTest, sizes, True)\n",
        "\n",
        "# show deltas\n",
        "if showDeltas:\n",
        "    graph(\"AutoCall\", deltas, xAxis[:,0], \"\", \"deltas\", dydxTest, sizes, True)"
      ],
      "metadata": {
        "id": "BwJ5sCQNf8n7",
        "outputId": "fa5f174e-ec63-4a00-f380-5663b330406c",
        "colab": {
          "base_uri": "https://localhost:8080/",
          "height": 1000
        }
      },
      "execution_count": 15,
      "outputs": [
        {
          "output_type": "display_data",
          "data": {
            "text/plain": [
              "<Figure size 684x576 with 4 Axes>"
            ],
            "image/png": "[encoded data removed]"
          },
          "metadata": {
            "needs_background": "light"
          }
        },
        {
          "output_type": "display_data",
          "data": {
            "text/plain": [
              "<Figure size 684x576 with 4 Axes>"
            ],
            "image/png": "[encoded data removed]"
          },
          "metadata": {
            "needs_background": "light"
          }
        }
      ]
    },
    {
      "cell_type": "code",
      "source": [
        "# show predicitions\n",
        "graph(\"AutoCall seed %d\" % simulSeed , values, xAxis, \"\", \"values\", yTest, sizes, True)\n",
        "\n",
        "# show deltas\n",
        "if showDeltas:\n",
        "    graph(\"AutoCall\", deltas, xAxis[:,0], \"\", \"deltas\", dydxTest, sizes, True)"
      ],
      "metadata": {
        "id": "_NGpeQM9e_XA",
        "outputId": "b3f74158-5450-46b6-efc7-3442dba77021",
        "colab": {
          "base_uri": "https://localhost:8080/",
          "height": 1000
        }
      },
      "execution_count": 16,
      "outputs": [
        {
          "output_type": "display_data",
          "data": {
            "text/plain": [
              "<Figure size 684x576 with 4 Axes>"
            ],
            "image/png": "[encoded data removed]"
          },
          "metadata": {
            "needs_background": "light"
          }
        },
        {
          "output_type": "display_data",
          "data": {
            "text/plain": [
              "<Figure size 684x576 with 4 Axes>"
            ],
            "image/png": "[encoded data removed]"
          },
          "metadata": {
            "needs_background": "light"
          }
        }
      ]
    },
    {
      "cell_type": "code",
      "source": [
        "# show predicitions\n",
        "graph(\"AutoCall seed %d\" % simulSeed , values, xAxis, \"\", \"values\", yTest, sizes, True)\n",
        "\n",
        "# show deltas\n",
        "if showDeltas:\n",
        "    graph(\"AutoCall\", deltas, xAxis[:,0], \"\", \"deltas\", dydxTest, sizes, True)"
      ],
      "metadata": {
        "colab": {
          "base_uri": "https://localhost:8080/",
          "height": 1000
        },
        "id": "_7bsML1gYH4h",
        "outputId": "bafb79fd-890c-4985-b7fa-bbcca391d1e9"
      },
      "execution_count": 17,
      "outputs": [
        {
          "output_type": "display_data",
          "data": {
            "text/plain": [
              "<Figure size 684x576 with 4 Axes>"
            ],
            "image/png": "[encoded data removed]"
          },
          "metadata": {
            "needs_background": "light"
          }
        },
        {
          "output_type": "display_data",
          "data": {
            "text/plain": [
              "<Figure size 684x576 with 4 Axes>"
            ],
            "image/png": "[encoded data removed]"
          },
          "metadata": {
            "needs_background": "light"
          }
        }
      ]
    },
    {
      "cell_type": "code",
      "source": [
        "ones = np.ones((100, 3))\n",
        "\n",
        "for i in range(100):\n",
        "    ones[i][0] = (i+1)*0.01 + 0.5\n",
        "\n",
        "values_1, deltas_1 = regressor.predict_values_and_derivs(ones)\n",
        "\n",
        "normals = np.random.normal(size=[4, 100000, 3])\n",
        "\n",
        "\n",
        "targets = np.zeros_like(values_1)\n",
        "targets_delta = np.zeros_like(values_1)\n",
        "for i in range(100):\n",
        "    targets[i] += generator.pricing_AutoCall_mc(ones[i], normals)\n",
        "\n",
        "(values_1 - targets)*10000"
      ],
      "metadata": {
        "id": "PS3cDJ3jNmUd",
        "outputId": "d6bb382b-df28-4da8-93d8-454c597998a3",
        "colab": {
          "base_uri": "https://localhost:8080/"
        }
      },
      "execution_count": 18,
      "outputs": [
        {
          "output_type": "execute_result",
          "data": {
            "text/plain": [
              "array([[ 1.41408439e+02],\n",
              "       [ 1.30492984e+02],\n",
              "       [ 1.19672845e+02],\n",
              "       [ 1.07258552e+02],\n",
              "       [ 9.49843487e+01],\n",
              "       [ 8.20839431e+01],\n",
              "       [ 7.02644290e+01],\n",
              "       [ 5.48043795e+01],\n",
              "       [ 4.09985132e+01],\n",
              "       [ 2.78805091e+01],\n",
              "       [ 1.36751583e+01],\n",
              "       [ 3.53092598e-01],\n",
              "       [-1.32176838e+01],\n",
              "       [-2.67581465e+01],\n",
              "       [-4.19907744e+01],\n",
              "       [-5.68848924e+01],\n",
              "       [-7.05245125e+01],\n",
              "       [-8.35087837e+01],\n",
              "       [-9.85072014e+01],\n",
              "       [-1.11374256e+02],\n",
              "       [-1.24960216e+02],\n",
              "       [-1.38696544e+02],\n",
              "       [-1.52783096e+02],\n",
              "       [-1.65239639e+02],\n",
              "       [-1.76604080e+02],\n",
              "       [-1.87730670e+02],\n",
              "       [-1.98626747e+02],\n",
              "       [-2.09099715e+02],\n",
              "       [-2.21249973e+02],\n",
              "       [-2.32435891e+02],\n",
              "       [-2.43566228e+02],\n",
              "       [-2.56460717e+02],\n",
              "       [-2.67250874e+02],\n",
              "       [-2.79069266e+02],\n",
              "       [-2.89201754e+02],\n",
              "       [-2.99108470e+02],\n",
              "       [-3.08758442e+02],\n",
              "       [-3.17738511e+02],\n",
              "       [-3.28600110e+02],\n",
              "       [-3.36750066e+02],\n",
              "       [-3.45057291e+02],\n",
              "       [-3.53977919e+02],\n",
              "       [-3.63152118e+02],\n",
              "       [-3.72571419e+02],\n",
              "       [-3.81847541e+02],\n",
              "       [-3.89802377e+02],\n",
              "       [-3.97353454e+02],\n",
              "       [-4.05261310e+02],\n",
              "       [-4.13073393e+02],\n",
              "       [-4.21986490e+02],\n",
              "       [-4.28521210e+02],\n",
              "       [-4.35608161e+02],\n",
              "       [-4.41504067e+02],\n",
              "       [-4.47165941e+02],\n",
              "       [-4.52220096e+02],\n",
              "       [-4.58527843e+02],\n",
              "       [-4.64280332e+02],\n",
              "       [-4.69298600e+02],\n",
              "       [-4.75353362e+02],\n",
              "       [-4.80297551e+02],\n",
              "       [-4.83933818e+02],\n",
              "       [-4.87594729e+02],\n",
              "       [-4.91928464e+02],\n",
              "       [-4.94020381e+02],\n",
              "       [-4.97912789e+02],\n",
              "       [-4.99976429e+02],\n",
              "       [-5.02321215e+02],\n",
              "       [-5.02791044e+02],\n",
              "       [-5.03900140e+02],\n",
              "       [-5.04877050e+02],\n",
              "       [-5.06321999e+02],\n",
              "       [-5.06223496e+02],\n",
              "       [-5.06501191e+02],\n",
              "       [-5.06076086e+02],\n",
              "       [-5.03652847e+02],\n",
              "       [-5.01810987e+02],\n",
              "       [-5.00263869e+02],\n",
              "       [-4.98171736e+02],\n",
              "       [-4.96668641e+02],\n",
              "       [-4.94274257e+02],\n",
              "       [-4.92636152e+02],\n",
              "       [-4.89848713e+02],\n",
              "       [-4.86468124e+02],\n",
              "       [-4.83156117e+02],\n",
              "       [-4.79224664e+02],\n",
              "       [-4.74762937e+02],\n",
              "       [-4.70417996e+02],\n",
              "       [-4.66515175e+02],\n",
              "       [-4.61459127e+02],\n",
              "       [-4.57067746e+02],\n",
              "       [-4.52220329e+02],\n",
              "       [-4.46474753e+02],\n",
              "       [-4.40460601e+02],\n",
              "       [-4.34617326e+02],\n",
              "       [-4.28583989e+02],\n",
              "       [-4.22026081e+02],\n",
              "       [-4.14986315e+02],\n",
              "       [-4.08111434e+02],\n",
              "       [-4.01301783e+02],\n",
              "       [-3.94058046e+02]])"
            ]
          },
          "metadata": {},
          "execution_count": 18
        }
      ]
    },
    {
      "cell_type": "code",
      "source": [
        "generator.vols"
      ],
      "metadata": {
        "id": "bN0eis2fDfJ5",
        "outputId": "afa2973b-db98-4551-a255-652f7f90ad71",
        "colab": {
          "base_uri": "https://localhost:8080/"
        }
      },
      "execution_count": 19,
      "outputs": [
        {
          "output_type": "execute_result",
          "data": {
            "text/plain": [
              "array([0.37754669, 0.14567145, 0.08638145])"
            ]
          },
          "metadata": {},
          "execution_count": 19
        }
      ]
    },
    {
      "cell_type": "code",
      "source": [
        "regressor.x_mean, regressor.x_std"
      ],
      "metadata": {
        "id": "O4LYbdR0Dy4f",
        "outputId": "ab3d8c48-beca-461f-ec0e-15391b614848",
        "colab": {
          "base_uri": "https://localhost:8080/"
        }
      },
      "execution_count": 20,
      "outputs": [
        {
          "output_type": "execute_result",
          "data": {
            "text/plain": [
              "(array([0.7504981 , 0.75049631, 0.74994859]),\n",
              " array([0.31776511, 0.31731763, 0.31715337]))"
            ]
          },
          "metadata": {},
          "execution_count": 20
        }
      ]
    },
    {
      "cell_type": "code",
      "source": [
        "regressor.x_raw"
      ],
      "metadata": {
        "id": "DJKAY0BNWudM",
        "outputId": "2ccefee5-ef74-4377-d785-35b16d5fd0e4",
        "colab": {
          "base_uri": "https://localhost:8080/"
        }
      },
      "execution_count": 21,
      "outputs": [
        {
          "output_type": "execute_result",
          "data": {
            "text/plain": [
              "array([[0.87816807, 0.72581091, 1.28748426],\n",
              "       [0.96936762, 0.69037704, 1.12210455],\n",
              "       [0.44429809, 1.18040519, 0.7998936 ],\n",
              "       ...,\n",
              "       [0.30848453, 1.27569024, 0.89843592],\n",
              "       [0.5616333 , 0.93004129, 1.17749179],\n",
              "       [0.97252717, 0.9910096 , 1.25356344]])"
            ]
          },
          "metadata": {},
          "execution_count": 21
        }
      ]
    },
    {
      "cell_type": "code",
      "source": [
        "regressor.y_raw"
      ],
      "metadata": {
        "id": "PGYgc7dxQA0s",
        "outputId": "c1654426-da34-4999-c622-c6cac3ab55aa",
        "colab": {
          "base_uri": "https://localhost:8080/"
        }
      },
      "execution_count": 22,
      "outputs": [
        {
          "output_type": "execute_result",
          "data": {
            "text/plain": [
              "array([[0.84421065],\n",
              "       [0.68202201],\n",
              "       [0.36635019],\n",
              "       ...,\n",
              "       [0.32012996],\n",
              "       [0.63499594],\n",
              "       [1.045     ]])"
            ]
          },
          "metadata": {},
          "execution_count": 22
        }
      ]
    },
    {
      "cell_type": "code",
      "source": [
        "regressor.dydx_raw"
      ],
      "metadata": {
        "id": "trbuvjAFRE52",
        "outputId": "fea9e150-6d2f-4ad6-caaa-646d61e91012",
        "colab": {
          "base_uri": "https://localhost:8080/"
        }
      },
      "execution_count": 23,
      "outputs": [
        {
          "output_type": "execute_result",
          "data": {
            "text/plain": [
              "array([[0.32364038, 0.        , 0.        ],\n",
              "       [0.18312759, 2.45446178, 0.        ],\n",
              "       [0.82455945, 0.        , 0.        ],\n",
              "       ...,\n",
              "       [1.03775045, 0.        , 0.        ],\n",
              "       [0.13353186, 0.        , 0.        ],\n",
              "       [0.        , 0.        , 0.        ]])"
            ]
          },
          "metadata": {},
          "execution_count": 23
        }
      ]
    },
    {
      "cell_type": "code",
      "source": [],
      "metadata": {
        "id": "tdbxX3DuTOn2"
      },
      "execution_count": 23,
      "outputs": []
    }
  ],
  "metadata": {
    "celltoolbar": "Raw Cell Format",
    "kernelspec": {
      "display_name": "Python 3 (ipykernel)",
      "language": "python",
      "name": "python3"
    },
    "language_info": {
      "codemirror_mode": {
        "name": "ipython",
        "version": 3
      },
      "file_extension": ".py",
      "mimetype": "text/x-python",
      "name": "python",
      "nbconvert_exporter": "python",
      "pygments_lexer": "ipython3",
      "version": "3.9.7"
    },
    "colab": {
      "provenance": [],
      "collapsed_sections": [],
      "include_colab_link": true
    },
    "accelerator": "GPU",
    "gpuClass": "standard",
    "widgets": {
      "application/vnd.jupyter.widget-state+json": {
        "498d19c740e44a1f8fc59bb8fb616ec1": {
          "model_module": "@jupyter-widgets/controls",
          "model_name": "HBoxModel",
          "model_module_version": "1.5.0",
          "state": {
            "_dom_classes": [],
            "_model_module": "@jupyter-widgets/controls",
            "_model_module_version": "1.5.0",
            "_model_name": "HBoxModel",
            "_view_count": null,
            "_view_module": "@jupyter-widgets/controls",
            "_view_module_version": "1.5.0",
            "_view_name": "HBoxView",
            "box_style": "",
            "children": [
              "IPY_MODEL_12f798e5f14543d299b8b83456cb458a",
              "IPY_MODEL_8cf2f95e500f4e40826f77fb7f364bd8",
              "IPY_MODEL_f3bac4f9a19242ee9bf76a1e821715cd"
            ],
            "layout": "IPY_MODEL_ce5a29acffd74f4093215b9bdeaa7d4b"
          }
        },
        "12f798e5f14543d299b8b83456cb458a": {
          "model_module": "@jupyter-widgets/controls",
          "model_name": "HTMLModel",
          "model_module_version": "1.5.0",
          "state": {
            "_dom_classes": [],
            "_model_module": "@jupyter-widgets/controls",
            "_model_module_version": "1.5.0",
            "_model_name": "HTMLModel",
            "_view_count": null,
            "_view_module": "@jupyter-widgets/controls",
            "_view_module_version": "1.5.0",
            "_view_name": "HTMLView",
            "description": "",
            "description_tooltip": null,
            "layout": "IPY_MODEL_f363ab310cdb488db44ea442dd9f842b",
            "placeholder": "​",
            "style": "IPY_MODEL_db4181d3586c44388edc8d2d8d01684f",
            "value": "standard training: 100%"
          }
        },
        "8cf2f95e500f4e40826f77fb7f364bd8": {
          "model_module": "@jupyter-widgets/controls",
          "model_name": "FloatProgressModel",
          "model_module_version": "1.5.0",
          "state": {
            "_dom_classes": [],
            "_model_module": "@jupyter-widgets/controls",
            "_model_module_version": "1.5.0",
            "_model_name": "FloatProgressModel",
            "_view_count": null,
            "_view_module": "@jupyter-widgets/controls",
            "_view_module_version": "1.5.0",
            "_view_name": "ProgressView",
            "bar_style": "success",
            "description": "",
            "description_tooltip": null,
            "layout": "IPY_MODEL_efdd08fb115e490d90ce377c32b23e38",
            "max": 100,
            "min": 0,
            "orientation": "horizontal",
            "style": "IPY_MODEL_0f925aca1e404294ba0f7c8f2c9b3a37",
            "value": 100
          }
        },
        "f3bac4f9a19242ee9bf76a1e821715cd": {
          "model_module": "@jupyter-widgets/controls",
          "model_name": "HTMLModel",
          "model_module_version": "1.5.0",
          "state": {
            "_dom_classes": [],
            "_model_module": "@jupyter-widgets/controls",
            "_model_module_version": "1.5.0",
            "_model_name": "HTMLModel",
            "_view_count": null,
            "_view_module": "@jupyter-widgets/controls",
            "_view_module_version": "1.5.0",
            "_view_name": "HTMLView",
            "description": "",
            "description_tooltip": null,
            "layout": "IPY_MODEL_0610c0e94977447c9d8315e0dc0477ed",
            "placeholder": "​",
            "style": "IPY_MODEL_daeb940e46f54a39b025e5b3099d6fac",
            "value": " 100/100 [00:21&lt;00:00,  4.75it/s]"
          }
        },
        "ce5a29acffd74f4093215b9bdeaa7d4b": {
          "model_module": "@jupyter-widgets/base",
          "model_name": "LayoutModel",
          "model_module_version": "1.2.0",
          "state": {
            "_model_module": "@jupyter-widgets/base",
            "_model_module_version": "1.2.0",
            "_model_name": "LayoutModel",
            "_view_count": null,
            "_view_module": "@jupyter-widgets/base",
            "_view_module_version": "1.2.0",
            "_view_name": "LayoutView",
            "align_content": null,
            "align_items": null,
            "align_self": null,
            "border": null,
            "bottom": null,
            "display": null,
            "flex": null,
            "flex_flow": null,
            "grid_area": null,
            "grid_auto_columns": null,
            "grid_auto_flow": null,
            "grid_auto_rows": null,
            "grid_column": null,
            "grid_gap": null,
            "grid_row": null,
            "grid_template_areas": null,
            "grid_template_columns": null,
            "grid_template_rows": null,
            "height": null,
            "justify_content": null,
            "justify_items": null,
            "left": null,
            "margin": null,
            "max_height": null,
            "max_width": null,
            "min_height": null,
            "min_width": null,
            "object_fit": null,
            "object_position": null,
            "order": null,
            "overflow": null,
            "overflow_x": null,
            "overflow_y": null,
            "padding": null,
            "right": null,
            "top": null,
            "visibility": null,
            "width": null
          }
        },
        "f363ab310cdb488db44ea442dd9f842b": {
          "model_module": "@jupyter-widgets/base",
          "model_name": "LayoutModel",
          "model_module_version": "1.2.0",
          "state": {
            "_model_module": "@jupyter-widgets/base",
            "_model_module_version": "1.2.0",
            "_model_name": "LayoutModel",
            "_view_count": null,
            "_view_module": "@jupyter-widgets/base",
            "_view_module_version": "1.2.0",
            "_view_name": "LayoutView",
            "align_content": null,
            "align_items": null,
            "align_self": null,
            "border": null,
            "bottom": null,
            "display": null,
            "flex": null,
            "flex_flow": null,
            "grid_area": null,
            "grid_auto_columns": null,
            "grid_auto_flow": null,
            "grid_auto_rows": null,
            "grid_column": null,
            "grid_gap": null,
            "grid_row": null,
            "grid_template_areas": null,
            "grid_template_columns": null,
            "grid_template_rows": null,
            "height": null,
            "justify_content": null,
            "justify_items": null,
            "left": null,
            "margin": null,
            "max_height": null,
            "max_width": null,
            "min_height": null,
            "min_width": null,
            "object_fit": null,
            "object_position": null,
            "order": null,
            "overflow": null,
            "overflow_x": null,
            "overflow_y": null,
            "padding": null,
            "right": null,
            "top": null,
            "visibility": null,
            "width": null
          }
        },
        "db4181d3586c44388edc8d2d8d01684f": {
          "model_module": "@jupyter-widgets/controls",
          "model_name": "DescriptionStyleModel",
          "model_module_version": "1.5.0",
          "state": {
            "_model_module": "@jupyter-widgets/controls",
            "_model_module_version": "1.5.0",
            "_model_name": "DescriptionStyleModel",
            "_view_count": null,
            "_view_module": "@jupyter-widgets/base",
            "_view_module_version": "1.2.0",
            "_view_name": "StyleView",
            "description_width": ""
          }
        },
        "efdd08fb115e490d90ce377c32b23e38": {
          "model_module": "@jupyter-widgets/base",
          "model_name": "LayoutModel",
          "model_module_version": "1.2.0",
          "state": {
            "_model_module": "@jupyter-widgets/base",
            "_model_module_version": "1.2.0",
            "_model_name": "LayoutModel",
            "_view_count": null,
            "_view_module": "@jupyter-widgets/base",
            "_view_module_version": "1.2.0",
            "_view_name": "LayoutView",
            "align_content": null,
            "align_items": null,
            "align_self": null,
            "border": null,
            "bottom": null,
            "display": null,
            "flex": null,
            "flex_flow": null,
            "grid_area": null,
            "grid_auto_columns": null,
            "grid_auto_flow": null,
            "grid_auto_rows": null,
            "grid_column": null,
            "grid_gap": null,
            "grid_row": null,
            "grid_template_areas": null,
            "grid_template_columns": null,
            "grid_template_rows": null,
            "height": null,
            "justify_content": null,
            "justify_items": null,
            "left": null,
            "margin": null,
            "max_height": null,
            "max_width": null,
            "min_height": null,
            "min_width": null,
            "object_fit": null,
            "object_position": null,
            "order": null,
            "overflow": null,
            "overflow_x": null,
            "overflow_y": null,
            "padding": null,
            "right": null,
            "top": null,
            "visibility": null,
            "width": null
          }
        },
        "0f925aca1e404294ba0f7c8f2c9b3a37": {
          "model_module": "@jupyter-widgets/controls",
          "model_name": "ProgressStyleModel",
          "model_module_version": "1.5.0",
          "state": {
            "_model_module": "@jupyter-widgets/controls",
            "_model_module_version": "1.5.0",
            "_model_name": "ProgressStyleModel",
            "_view_count": null,
            "_view_module": "@jupyter-widgets/base",
            "_view_module_version": "1.2.0",
            "_view_name": "StyleView",
            "bar_color": null,
            "description_width": ""
          }
        },
        "0610c0e94977447c9d8315e0dc0477ed": {
          "model_module": "@jupyter-widgets/base",
          "model_name": "LayoutModel",
          "model_module_version": "1.2.0",
          "state": {
            "_model_module": "@jupyter-widgets/base",
            "_model_module_version": "1.2.0",
            "_model_name": "LayoutModel",
            "_view_count": null,
            "_view_module": "@jupyter-widgets/base",
            "_view_module_version": "1.2.0",
            "_view_name": "LayoutView",
            "align_content": null,
            "align_items": null,
            "align_self": null,
            "border": null,
            "bottom": null,
            "display": null,
            "flex": null,
            "flex_flow": null,
            "grid_area": null,
            "grid_auto_columns": null,
            "grid_auto_flow": null,
            "grid_auto_rows": null,
            "grid_column": null,
            "grid_gap": null,
            "grid_row": null,
            "grid_template_areas": null,
            "grid_template_columns": null,
            "grid_template_rows": null,
            "height": null,
            "justify_content": null,
            "justify_items": null,
            "left": null,
            "margin": null,
            "max_height": null,
            "max_width": null,
            "min_height": null,
            "min_width": null,
            "object_fit": null,
            "object_position": null,
            "order": null,
            "overflow": null,
            "overflow_x": null,
            "overflow_y": null,
            "padding": null,
            "right": null,
            "top": null,
            "visibility": null,
            "width": null
          }
        },
        "daeb940e46f54a39b025e5b3099d6fac": {
          "model_module": "@jupyter-widgets/controls",
          "model_name": "DescriptionStyleModel",
          "model_module_version": "1.5.0",
          "state": {
            "_model_module": "@jupyter-widgets/controls",
            "_model_module_version": "1.5.0",
            "_model_name": "DescriptionStyleModel",
            "_view_count": null,
            "_view_module": "@jupyter-widgets/base",
            "_view_module_version": "1.2.0",
            "_view_name": "StyleView",
            "description_width": ""
          }
        },
        "52ed708f781d4095aaecece7dde9a90c": {
          "model_module": "@jupyter-widgets/controls",
          "model_name": "HBoxModel",
          "model_module_version": "1.5.0",
          "state": {
            "_dom_classes": [],
            "_model_module": "@jupyter-widgets/controls",
            "_model_module_version": "1.5.0",
            "_model_name": "HBoxModel",
            "_view_count": null,
            "_view_module": "@jupyter-widgets/controls",
            "_view_module_version": "1.5.0",
            "_view_name": "HBoxView",
            "box_style": "",
            "children": [
              "IPY_MODEL_9d02ad920b794cf69fef253598cbf8a7",
              "IPY_MODEL_ccf40173b7b04216b4d5d3608fd0389f",
              "IPY_MODEL_21eed9b4d8f54560afb3a3dead5c07e3"
            ],
            "layout": "IPY_MODEL_adad9d54a4a54434aa7361b2399cd9b5"
          }
        },
        "9d02ad920b794cf69fef253598cbf8a7": {
          "model_module": "@jupyter-widgets/controls",
          "model_name": "HTMLModel",
          "model_module_version": "1.5.0",
          "state": {
            "_dom_classes": [],
            "_model_module": "@jupyter-widgets/controls",
            "_model_module_version": "1.5.0",
            "_model_name": "HTMLModel",
            "_view_count": null,
            "_view_module": "@jupyter-widgets/controls",
            "_view_module_version": "1.5.0",
            "_view_name": "HTMLView",
            "description": "",
            "description_tooltip": null,
            "layout": "IPY_MODEL_5b01fa82785c4f4cbeab852f7b6dcf38",
            "placeholder": "​",
            "style": "IPY_MODEL_fbfed2ad62834781ad86de04d0262b40",
            "value": "differential training: 100%"
          }
        },
        "ccf40173b7b04216b4d5d3608fd0389f": {
          "model_module": "@jupyter-widgets/controls",
          "model_name": "FloatProgressModel",
          "model_module_version": "1.5.0",
          "state": {
            "_dom_classes": [],
            "_model_module": "@jupyter-widgets/controls",
            "_model_module_version": "1.5.0",
            "_model_name": "FloatProgressModel",
            "_view_count": null,
            "_view_module": "@jupyter-widgets/controls",
            "_view_module_version": "1.5.0",
            "_view_name": "ProgressView",
            "bar_style": "success",
            "description": "",
            "description_tooltip": null,
            "layout": "IPY_MODEL_99a9b107cae94554a882c785c0d3b5e2",
            "max": 100,
            "min": 0,
            "orientation": "horizontal",
            "style": "IPY_MODEL_06af47f58eb54da39d79e7539e9a67df",
            "value": 100
          }
        },
        "21eed9b4d8f54560afb3a3dead5c07e3": {
          "model_module": "@jupyter-widgets/controls",
          "model_name": "HTMLModel",
          "model_module_version": "1.5.0",
          "state": {
            "_dom_classes": [],
            "_model_module": "@jupyter-widgets/controls",
            "_model_module_version": "1.5.0",
            "_model_name": "HTMLModel",
            "_view_count": null,
            "_view_module": "@jupyter-widgets/controls",
            "_view_module_version": "1.5.0",
            "_view_name": "HTMLView",
            "description": "",
            "description_tooltip": null,
            "layout": "IPY_MODEL_43b906307c474a6e947e05fdc1619f1f",
            "placeholder": "​",
            "style": "IPY_MODEL_bfc7ca0df8d74552be71a5c3947d5190",
            "value": " 100/100 [00:32&lt;00:00,  3.09it/s]"
          }
        },
        "adad9d54a4a54434aa7361b2399cd9b5": {
          "model_module": "@jupyter-widgets/base",
          "model_name": "LayoutModel",
          "model_module_version": "1.2.0",
          "state": {
            "_model_module": "@jupyter-widgets/base",
            "_model_module_version": "1.2.0",
            "_model_name": "LayoutModel",
            "_view_count": null,
            "_view_module": "@jupyter-widgets/base",
            "_view_module_version": "1.2.0",
            "_view_name": "LayoutView",
            "align_content": null,
            "align_items": null,
            "align_self": null,
            "border": null,
            "bottom": null,
            "display": null,
            "flex": null,
            "flex_flow": null,
            "grid_area": null,
            "grid_auto_columns": null,
            "grid_auto_flow": null,
            "grid_auto_rows": null,
            "grid_column": null,
            "grid_gap": null,
            "grid_row": null,
            "grid_template_areas": null,
            "grid_template_columns": null,
            "grid_template_rows": null,
            "height": null,
            "justify_content": null,
            "justify_items": null,
            "left": null,
            "margin": null,
            "max_height": null,
            "max_width": null,
            "min_height": null,
            "min_width": null,
            "object_fit": null,
            "object_position": null,
            "order": null,
            "overflow": null,
            "overflow_x": null,
            "overflow_y": null,
            "padding": null,
            "right": null,
            "top": null,
            "visibility": null,
            "width": null
          }
        },
        "5b01fa82785c4f4cbeab852f7b6dcf38": {
          "model_module": "@jupyter-widgets/base",
          "model_name": "LayoutModel",
          "model_module_version": "1.2.0",
          "state": {
            "_model_module": "@jupyter-widgets/base",
            "_model_module_version": "1.2.0",
            "_model_name": "LayoutModel",
            "_view_count": null,
            "_view_module": "@jupyter-widgets/base",
            "_view_module_version": "1.2.0",
            "_view_name": "LayoutView",
            "align_content": null,
            "align_items": null,
            "align_self": null,
            "border": null,
            "bottom": null,
            "display": null,
            "flex": null,
            "flex_flow": null,
            "grid_area": null,
            "grid_auto_columns": null,
            "grid_auto_flow": null,
            "grid_auto_rows": null,
            "grid_column": null,
            "grid_gap": null,
            "grid_row": null,
            "grid_template_areas": null,
            "grid_template_columns": null,
            "grid_template_rows": null,
            "height": null,
            "justify_content": null,
            "justify_items": null,
            "left": null,
            "margin": null,
            "max_height": null,
            "max_width": null,
            "min_height": null,
            "min_width": null,
            "object_fit": null,
            "object_position": null,
            "order": null,
            "overflow": null,
            "overflow_x": null,
            "overflow_y": null,
            "padding": null,
            "right": null,
            "top": null,
            "visibility": null,
            "width": null
          }
        },
        "fbfed2ad62834781ad86de04d0262b40": {
          "model_module": "@jupyter-widgets/controls",
          "model_name": "DescriptionStyleModel",
          "model_module_version": "1.5.0",
          "state": {
            "_model_module": "@jupyter-widgets/controls",
            "_model_module_version": "1.5.0",
            "_model_name": "DescriptionStyleModel",
            "_view_count": null,
            "_view_module": "@jupyter-widgets/base",
            "_view_module_version": "1.2.0",
            "_view_name": "StyleView",
            "description_width": ""
          }
        },
        "99a9b107cae94554a882c785c0d3b5e2": {
          "model_module": "@jupyter-widgets/base",
          "model_name": "LayoutModel",
          "model_module_version": "1.2.0",
          "state": {
            "_model_module": "@jupyter-widgets/base",
            "_model_module_version": "1.2.0",
            "_model_name": "LayoutModel",
            "_view_count": null,
            "_view_module": "@jupyter-widgets/base",
            "_view_module_version": "1.2.0",
            "_view_name": "LayoutView",
            "align_content": null,
            "align_items": null,
            "align_self": null,
            "border": null,
            "bottom": null,
            "display": null,
            "flex": null,
            "flex_flow": null,
            "grid_area": null,
            "grid_auto_columns": null,
            "grid_auto_flow": null,
            "grid_auto_rows": null,
            "grid_column": null,
            "grid_gap": null,
            "grid_row": null,
            "grid_template_areas": null,
            "grid_template_columns": null,
            "grid_template_rows": null,
            "height": null,
            "justify_content": null,
            "justify_items": null,
            "left": null,
            "margin": null,
            "max_height": null,
            "max_width": null,
            "min_height": null,
            "min_width": null,
            "object_fit": null,
            "object_position": null,
            "order": null,
            "overflow": null,
            "overflow_x": null,
            "overflow_y": null,
            "padding": null,
            "right": null,
            "top": null,
            "visibility": null,
            "width": null
          }
        },
        "06af47f58eb54da39d79e7539e9a67df": {
          "model_module": "@jupyter-widgets/controls",
          "model_name": "ProgressStyleModel",
          "model_module_version": "1.5.0",
          "state": {
            "_model_module": "@jupyter-widgets/controls",
            "_model_module_version": "1.5.0",
            "_model_name": "ProgressStyleModel",
            "_view_count": null,
            "_view_module": "@jupyter-widgets/base",
            "_view_module_version": "1.2.0",
            "_view_name": "StyleView",
            "bar_color": null,
            "description_width": ""
          }
        },
        "43b906307c474a6e947e05fdc1619f1f": {
          "model_module": "@jupyter-widgets/base",
          "model_name": "LayoutModel",
          "model_module_version": "1.2.0",
          "state": {
            "_model_module": "@jupyter-widgets/base",
            "_model_module_version": "1.2.0",
            "_model_name": "LayoutModel",
            "_view_count": null,
            "_view_module": "@jupyter-widgets/base",
            "_view_module_version": "1.2.0",
            "_view_name": "LayoutView",
            "align_content": null,
            "align_items": null,
            "align_self": null,
            "border": null,
            "bottom": null,
            "display": null,
            "flex": null,
            "flex_flow": null,
            "grid_area": null,
            "grid_auto_columns": null,
            "grid_auto_flow": null,
            "grid_auto_rows": null,
            "grid_column": null,
            "grid_gap": null,
            "grid_row": null,
            "grid_template_areas": null,
            "grid_template_columns": null,
            "grid_template_rows": null,
            "height": null,
            "justify_content": null,
            "justify_items": null,
            "left": null,
            "margin": null,
            "max_height": null,
            "max_width": null,
            "min_height": null,
            "min_width": null,
            "object_fit": null,
            "object_position": null,
            "order": null,
            "overflow": null,
            "overflow_x": null,
            "overflow_y": null,
            "padding": null,
            "right": null,
            "top": null,
            "visibility": null,
            "width": null
          }
        },
        "bfc7ca0df8d74552be71a5c3947d5190": {
          "model_module": "@jupyter-widgets/controls",
          "model_name": "DescriptionStyleModel",
          "model_module_version": "1.5.0",
          "state": {
            "_model_module": "@jupyter-widgets/controls",
            "_model_module_version": "1.5.0",
            "_model_name": "DescriptionStyleModel",
            "_view_count": null,
            "_view_module": "@jupyter-widgets/base",
            "_view_module_version": "1.2.0",
            "_view_name": "StyleView",
            "description_width": ""
          }
        },
        "ea9e7c017ee24e8e9cac119c2a9ed00a": {
          "model_module": "@jupyter-widgets/controls",
          "model_name": "HBoxModel",
          "model_module_version": "1.5.0",
          "state": {
            "_dom_classes": [],
            "_model_module": "@jupyter-widgets/controls",
            "_model_module_version": "1.5.0",
            "_model_name": "HBoxModel",
            "_view_count": null,
            "_view_module": "@jupyter-widgets/controls",
            "_view_module_version": "1.5.0",
            "_view_name": "HBoxView",
            "box_style": "",
            "children": [
              "IPY_MODEL_6d9bbf1b72f84ff6b14d2ea02637a777",
              "IPY_MODEL_2d1a17e44a124ea482f5cc3eccc6ab69",
              "IPY_MODEL_d407d3fbf1824c38be3f5d47b3ccf9e2"
            ],
            "layout": "IPY_MODEL_eb80ca968d204d65906cc2898a8963c7"
          }
        },
        "6d9bbf1b72f84ff6b14d2ea02637a777": {
          "model_module": "@jupyter-widgets/controls",
          "model_name": "HTMLModel",
          "model_module_version": "1.5.0",
          "state": {
            "_dom_classes": [],
            "_model_module": "@jupyter-widgets/controls",
            "_model_module_version": "1.5.0",
            "_model_name": "HTMLModel",
            "_view_count": null,
            "_view_module": "@jupyter-widgets/controls",
            "_view_module_version": "1.5.0",
            "_view_name": "HTMLView",
            "description": "",
            "description_tooltip": null,
            "layout": "IPY_MODEL_91205a98cb4f40b8b1e512cebe083f62",
            "placeholder": "​",
            "style": "IPY_MODEL_f4a6474b1c914ddfad8d6c12fa4adb5c",
            "value": "standard training: 100%"
          }
        },
        "2d1a17e44a124ea482f5cc3eccc6ab69": {
          "model_module": "@jupyter-widgets/controls",
          "model_name": "FloatProgressModel",
          "model_module_version": "1.5.0",
          "state": {
            "_dom_classes": [],
            "_model_module": "@jupyter-widgets/controls",
            "_model_module_version": "1.5.0",
            "_model_name": "FloatProgressModel",
            "_view_count": null,
            "_view_module": "@jupyter-widgets/controls",
            "_view_module_version": "1.5.0",
            "_view_name": "ProgressView",
            "bar_style": "success",
            "description": "",
            "description_tooltip": null,
            "layout": "IPY_MODEL_9f90afc1e1df48b09436427ffae8c4b9",
            "max": 100,
            "min": 0,
            "orientation": "horizontal",
            "style": "IPY_MODEL_69ddff140e464387bf9748390d2afb9b",
            "value": 100
          }
        },
        "d407d3fbf1824c38be3f5d47b3ccf9e2": {
          "model_module": "@jupyter-widgets/controls",
          "model_name": "HTMLModel",
          "model_module_version": "1.5.0",
          "state": {
            "_dom_classes": [],
            "_model_module": "@jupyter-widgets/controls",
            "_model_module_version": "1.5.0",
            "_model_name": "HTMLModel",
            "_view_count": null,
            "_view_module": "@jupyter-widgets/controls",
            "_view_module_version": "1.5.0",
            "_view_name": "HTMLView",
            "description": "",
            "description_tooltip": null,
            "layout": "IPY_MODEL_6f69249d0ce74f30ab59856a00c393b9",
            "placeholder": "​",
            "style": "IPY_MODEL_08d387193faa40b5bcff4427a8e4793a",
            "value": " 100/100 [00:42&lt;00:00,  2.81it/s]"
          }
        },
        "eb80ca968d204d65906cc2898a8963c7": {
          "model_module": "@jupyter-widgets/base",
          "model_name": "LayoutModel",
          "model_module_version": "1.2.0",
          "state": {
            "_model_module": "@jupyter-widgets/base",
            "_model_module_version": "1.2.0",
            "_model_name": "LayoutModel",
            "_view_count": null,
            "_view_module": "@jupyter-widgets/base",
            "_view_module_version": "1.2.0",
            "_view_name": "LayoutView",
            "align_content": null,
            "align_items": null,
            "align_self": null,
            "border": null,
            "bottom": null,
            "display": null,
            "flex": null,
            "flex_flow": null,
            "grid_area": null,
            "grid_auto_columns": null,
            "grid_auto_flow": null,
            "grid_auto_rows": null,
            "grid_column": null,
            "grid_gap": null,
            "grid_row": null,
            "grid_template_areas": null,
            "grid_template_columns": null,
            "grid_template_rows": null,
            "height": null,
            "justify_content": null,
            "justify_items": null,
            "left": null,
            "margin": null,
            "max_height": null,
            "max_width": null,
            "min_height": null,
            "min_width": null,
            "object_fit": null,
            "object_position": null,
            "order": null,
            "overflow": null,
            "overflow_x": null,
            "overflow_y": null,
            "padding": null,
            "right": null,
            "top": null,
            "visibility": null,
            "width": null
          }
        },
        "91205a98cb4f40b8b1e512cebe083f62": {
          "model_module": "@jupyter-widgets/base",
          "model_name": "LayoutModel",
          "model_module_version": "1.2.0",
          "state": {
            "_model_module": "@jupyter-widgets/base",
            "_model_module_version": "1.2.0",
            "_model_name": "LayoutModel",
            "_view_count": null,
            "_view_module": "@jupyter-widgets/base",
            "_view_module_version": "1.2.0",
            "_view_name": "LayoutView",
            "align_content": null,
            "align_items": null,
            "align_self": null,
            "border": null,
            "bottom": null,
            "display": null,
            "flex": null,
            "flex_flow": null,
            "grid_area": null,
            "grid_auto_columns": null,
            "grid_auto_flow": null,
            "grid_auto_rows": null,
            "grid_column": null,
            "grid_gap": null,
            "grid_row": null,
            "grid_template_areas": null,
            "grid_template_columns": null,
            "grid_template_rows": null,
            "height": null,
            "justify_content": null,
            "justify_items": null,
            "left": null,
            "margin": null,
            "max_height": null,
            "max_width": null,
            "min_height": null,
            "min_width": null,
            "object_fit": null,
            "object_position": null,
            "order": null,
            "overflow": null,
            "overflow_x": null,
            "overflow_y": null,
            "padding": null,
            "right": null,
            "top": null,
            "visibility": null,
            "width": null
          }
        },
        "f4a6474b1c914ddfad8d6c12fa4adb5c": {
          "model_module": "@jupyter-widgets/controls",
          "model_name": "DescriptionStyleModel",
          "model_module_version": "1.5.0",
          "state": {
            "_model_module": "@jupyter-widgets/controls",
            "_model_module_version": "1.5.0",
            "_model_name": "DescriptionStyleModel",
            "_view_count": null,
            "_view_module": "@jupyter-widgets/base",
            "_view_module_version": "1.2.0",
            "_view_name": "StyleView",
            "description_width": ""
          }
        },
        "9f90afc1e1df48b09436427ffae8c4b9": {
          "model_module": "@jupyter-widgets/base",
          "model_name": "LayoutModel",
          "model_module_version": "1.2.0",
          "state": {
            "_model_module": "@jupyter-widgets/base",
            "_model_module_version": "1.2.0",
            "_model_name": "LayoutModel",
            "_view_count": null,
            "_view_module": "@jupyter-widgets/base",
            "_view_module_version": "1.2.0",
            "_view_name": "LayoutView",
            "align_content": null,
            "align_items": null,
            "align_self": null,
            "border": null,
            "bottom": null,
            "display": null,
            "flex": null,
            "flex_flow": null,
            "grid_area": null,
            "grid_auto_columns": null,
            "grid_auto_flow": null,
            "grid_auto_rows": null,
            "grid_column": null,
            "grid_gap": null,
            "grid_row": null,
            "grid_template_areas": null,
            "grid_template_columns": null,
            "grid_template_rows": null,
            "height": null,
            "justify_content": null,
            "justify_items": null,
            "left": null,
            "margin": null,
            "max_height": null,
            "max_width": null,
            "min_height": null,
            "min_width": null,
            "object_fit": null,
            "object_position": null,
            "order": null,
            "overflow": null,
            "overflow_x": null,
            "overflow_y": null,
            "padding": null,
            "right": null,
            "top": null,
            "visibility": null,
            "width": null
          }
        },
        "69ddff140e464387bf9748390d2afb9b": {
          "model_module": "@jupyter-widgets/controls",
          "model_name": "ProgressStyleModel",
          "model_module_version": "1.5.0",
          "state": {
            "_model_module": "@jupyter-widgets/controls",
            "_model_module_version": "1.5.0",
            "_model_name": "ProgressStyleModel",
            "_view_count": null,
            "_view_module": "@jupyter-widgets/base",
            "_view_module_version": "1.2.0",
            "_view_name": "StyleView",
            "bar_color": null,
            "description_width": ""
          }
        },
        "6f69249d0ce74f30ab59856a00c393b9": {
          "model_module": "@jupyter-widgets/base",
          "model_name": "LayoutModel",
          "model_module_version": "1.2.0",
          "state": {
            "_model_module": "@jupyter-widgets/base",
            "_model_module_version": "1.2.0",
            "_model_name": "LayoutModel",
            "_view_count": null,
            "_view_module": "@jupyter-widgets/base",
            "_view_module_version": "1.2.0",
            "_view_name": "LayoutView",
            "align_content": null,
            "align_items": null,
            "align_self": null,
            "border": null,
            "bottom": null,
            "display": null,
            "flex": null,
            "flex_flow": null,
            "grid_area": null,
            "grid_auto_columns": null,
            "grid_auto_flow": null,
            "grid_auto_rows": null,
            "grid_column": null,
            "grid_gap": null,
            "grid_row": null,
            "grid_template_areas": null,
            "grid_template_columns": null,
            "grid_template_rows": null,
            "height": null,
            "justify_content": null,
            "justify_items": null,
            "left": null,
            "margin": null,
            "max_height": null,
            "max_width": null,
            "min_height": null,
            "min_width": null,
            "object_fit": null,
            "object_position": null,
            "order": null,
            "overflow": null,
            "overflow_x": null,
            "overflow_y": null,
            "padding": null,
            "right": null,
            "top": null,
            "visibility": null,
            "width": null
          }
        },
        "08d387193faa40b5bcff4427a8e4793a": {
          "model_module": "@jupyter-widgets/controls",
          "model_name": "DescriptionStyleModel",
          "model_module_version": "1.5.0",
          "state": {
            "_model_module": "@jupyter-widgets/controls",
            "_model_module_version": "1.5.0",
            "_model_name": "DescriptionStyleModel",
            "_view_count": null,
            "_view_module": "@jupyter-widgets/base",
            "_view_module_version": "1.2.0",
            "_view_name": "StyleView",
            "description_width": ""
          }
        }
      }
    }
  },
  "nbformat": 4,
  "nbformat_minor": 0
}